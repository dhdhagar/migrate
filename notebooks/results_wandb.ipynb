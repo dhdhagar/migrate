{
 "cells": [
  {
   "cell_type": "code",
   "id": "initial_id",
   "metadata": {
    "collapsed": true,
    "ExecuteTime": {
     "end_time": "2025-04-08T07:14:50.446183Z",
     "start_time": "2025-04-08T07:14:46.365038Z"
    }
   },
   "source": [
    "import wandb\n",
    "import pandas as pd\n",
    "import numpy as np\n",
    "import matplotlib.pyplot as plt\n",
    "import seaborn as sns\n",
    "import os\n",
    "import json\n",
    "import itertools\n",
    "from tqdm.notebook import tqdm"
   ],
   "outputs": [],
   "execution_count": 3
  },
  {
   "metadata": {
    "ExecuteTime": {
     "end_time": "2025-04-08T07:14:51.358587Z",
     "start_time": "2025-04-08T07:14:50.991583Z"
    }
   },
   "cell_type": "code",
   "source": [
    "# Load results from wandb\n",
    "api = wandb.Api()\n",
    "user_name = \"dhdhagar\"\n",
    "project_name = \"ttt-arc\"\n",
    "runs = api.runs(f\"{user_name}/{project_name}\", filters={\n",
    "    \"state\": \"finished\",\n",
    "})"
   ],
   "id": "11a055995bce461c",
   "outputs": [],
   "execution_count": 4
  },
  {
   "metadata": {
    "ExecuteTime": {
     "end_time": "2025-04-08T07:15:07.254771Z",
     "start_time": "2025-04-08T07:15:07.243176Z"
    }
   },
   "cell_type": "code",
   "source": [
    "# Load \"small\" tasks\n",
    "with open('../data/arc/arc-small_tasks.json', 'r') as fh:\n",
    "    small_tasks = json.load(fh)\n",
    "    expected_n_results = len(small_tasks)"
   ],
   "id": "762130a498a03b53",
   "outputs": [],
   "execution_count": 5
  },
  {
   "metadata": {
    "ExecuteTime": {
     "end_time": "2025-04-08T07:15:07.290484Z",
     "start_time": "2025-04-08T07:15:07.282645Z"
    }
   },
   "cell_type": "code",
   "source": [
    "# Load task difficulty\n",
    "with open('../data/arc/arc-all_tasks.json', 'r') as fh:\n",
    "    all_tasks = json.load(fh)"
   ],
   "id": "a8ce9ec918d4c958",
   "outputs": [],
   "execution_count": 6
  },
  {
   "metadata": {
    "ExecuteTime": {
     "end_time": "2025-04-08T07:15:07.298588Z",
     "start_time": "2025-04-08T07:15:07.296671Z"
    }
   },
   "cell_type": "code",
   "source": [
    "task_difficulty = {k: v['level'] for k,v in all_tasks.items()}\n",
    "task_train_examples = {k: v['num_train_examples'] for k,v in all_tasks.items()}"
   ],
   "id": "92859bf5652e562a",
   "outputs": [],
   "execution_count": 7
  },
  {
   "metadata": {
    "ExecuteTime": {
     "end_time": "2025-04-08T07:15:07.312300Z",
     "start_time": "2025-04-08T07:15:07.310150Z"
    }
   },
   "cell_type": "code",
   "source": [
    "# Get runs by tags\n",
    "tags = None\n",
    "all_tags = [\n",
    "   [\"sft\"], [\"sft\", \"train_temp=sched\"], [\"pro\", \"oracle\"], [\"pro\", \"online\"], [\"sft\", \"pro\", \"oracle\"],\n",
    "   [\"grpo\", \"oracle\"], [\"grpo\", \"online\"], [\"grpo\", \"beta0\", \"oracle\"], [\"grpo\", \"ns-best\", \"oracle\"], [\"grpo\", \"ns-mix\", \"oracle\"], [\"no_train\"],\n",
    "    [\"grpo\", \"oracle\", \"full\"], [\"sft\", \"train_temp=sched\", \"full\"]\n",
    "]"
   ],
   "id": "9072ffbfcbf18b02",
   "outputs": [],
   "execution_count": 8
  },
  {
   "metadata": {
    "ExecuteTime": {
     "end_time": "2025-04-08T07:23:05.883134Z",
     "start_time": "2025-04-08T07:15:07.317935Z"
    }
   },
   "cell_type": "code",
   "source": [
    "# Load results\n",
    "results = []\n",
    "seen = set()\n",
    "for run in tqdm(runs):\n",
    "    # if all(tag in run.tags for tag in tags):\n",
    "    if (tags is None and any(set(run.tags) == set(t) for t in all_tags)) or (tags is not None and set(run.tags) == set(tags)):\n",
    "        unique_id = f\"{run.config['target']}_{run.tags}\"\n",
    "        if unique_id not in seen:\n",
    "            results.append({\n",
    "                \"target\": run.config[\"target\"],\n",
    "                \"tags\": \",\".join(sorted(set(run.tags))),\n",
    "                **run.summary\n",
    "            })\n",
    "            seen.add(unique_id)\n",
    "\n",
    "# Convert results into dataframe\n",
    "all_res_df = pd.DataFrame(results)\n",
    "\n",
    "if tags is not None:\n",
    "   assert len(all_res_df) == expected_n_results, f\"Expected {expected_n_results} results, got {len(all_res_df)} results. Missing targets: {set(small_tasks.keys()) - set(all_res_df.target.tolist())}\"\n",
    "\n",
    "# Convert any boolean datatypes to int\n",
    "for col in all_res_df.columns:\n",
    "    if all_res_df[col].dtype == bool:\n",
    "        all_res_df[col] = all_res_df[col].astype(int)"
   ],
   "id": "a48b5153c9747c29",
   "outputs": [
    {
     "data": {
      "text/plain": [
       "  0%|          | 0/1574 [00:00<?, ?it/s]"
      ],
      "application/vnd.jupyter.widget-view+json": {
       "version_major": 2,
       "version_minor": 0,
       "model_id": "8b84392738cc462fbf8ad5e3857f70b9"
      }
     },
     "metadata": {},
     "output_type": "display_data"
    }
   ],
   "execution_count": 9
  },
  {
   "metadata": {
    "ExecuteTime": {
     "end_time": "2025-04-08T07:23:05.919731Z",
     "start_time": "2025-04-08T07:23:05.915943Z"
    }
   },
   "cell_type": "code",
   "source": [
    "# Columns to show\n",
    "numerical_cols = [\"_runtime\", \"test/solved_majority\", \"test/solved_majority_pass2\", \"test/solved_oracle\",\n",
    "                  \"test/best_score\", \"test/score_majority\", \"test/score_majority_pass2\", \"validation/majority_reward\",\n",
    "                  \"validation/majority_count\", \"train/reward_minus_replacement_mean\",\n",
    "                  \"train/reward_minus_replacement_max\"]\n",
    "cols_to_show = [\"tags\", \"target\"] + numerical_cols\n",
    "\n",
    "res_df = all_res_df[cols_to_show]"
   ],
   "id": "6edc9cdb152045a8",
   "outputs": [],
   "execution_count": 10
  },
  {
   "metadata": {
    "ExecuteTime": {
     "end_time": "2025-04-08T07:23:05.942145Z",
     "start_time": "2025-04-08T07:23:05.938964Z"
    }
   },
   "cell_type": "code",
   "source": [
    "# Change occurrence of tag \"oracle\" to \"supervised\" in tags column\n",
    "res_df.loc[:, \"tags\"] = res_df[\"tags\"].apply(lambda x: x.replace(\"oracle\", \"supervised\"))"
   ],
   "id": "c3c9bfcb7d8d1682",
   "outputs": [],
   "execution_count": 11
  },
  {
   "metadata": {
    "ExecuteTime": {
     "end_time": "2025-04-08T07:23:05.978994Z",
     "start_time": "2025-04-08T07:23:05.959669Z"
    }
   },
   "cell_type": "code",
   "source": [
    "# # Show results for one configuration\n",
    "# res_df.describe()\n",
    "\n",
    "# Show all results\n",
    "_res_df = res_df[['tags'] + numerical_cols].groupby(\"tags\").mean()\n",
    "_res_df = _res_df.sort_values([\"test/solved_majority_pass2\", \"test/solved_majority\", \"test/solved_oracle\", \"test/best_score\"], ascending=True)\n",
    "# Add a count column as the 1st column\n",
    "_res_df.insert(0, \"count\", res_df[['tags', 'target']].groupby(\"tags\").count())\n",
    "_res_df"
   ],
   "id": "ef012f7f27e63da1",
   "outputs": [
    {
     "data": {
      "text/plain": [
       "                           count     _runtime  test/solved_majority  \\\n",
       "tags                                                                  \n",
       "full,grpo,supervised         237  2051.629581              0.109705   \n",
       "full,sft,train_temp=sched    193  1531.188031              0.093264   \n",
       "online,pro                    54   282.565988              0.296296   \n",
       "grpo,online                   54   430.278034              0.314815   \n",
       "supervised,pro                54   242.486204              0.351852   \n",
       "grpo,ns-mix,supervised        54   579.714666              0.370370   \n",
       "grpo,ns-best,supervised       54   375.636667              0.388889   \n",
       "sft                           54   131.012640              0.351852   \n",
       "supervised,pro,sft            54   219.020248              0.370370   \n",
       "sft,train_temp=sched          54   172.410281              0.388889   \n",
       "beta0,grpo,supervised         54   405.133036              0.388889   \n",
       "grpo,supervised               54   354.452279              0.388889   \n",
       "\n",
       "                           test/solved_majority_pass2  test/solved_oracle  \\\n",
       "tags                                                                        \n",
       "full,grpo,supervised                         0.126582            0.156118   \n",
       "full,sft,train_temp=sched                    0.129534            0.181347   \n",
       "online,pro                                   0.425926            0.481481   \n",
       "grpo,online                                  0.425926            0.462963   \n",
       "supervised,pro                               0.481481            0.537037   \n",
       "grpo,ns-mix,supervised                       0.481481            0.518519   \n",
       "grpo,ns-best,supervised                      0.500000            0.592593   \n",
       "sft                                          0.518519            0.555556   \n",
       "supervised,pro,sft                           0.518519            0.574074   \n",
       "sft,train_temp=sched                         0.518519            0.574074   \n",
       "beta0,grpo,supervised                        0.537037            0.555556   \n",
       "grpo,supervised                              0.537037            0.592593   \n",
       "\n",
       "                           test/best_score  test/score_majority  \\\n",
       "tags                                                              \n",
       "full,grpo,supervised              0.520282             0.467842   \n",
       "full,sft,train_temp=sched         0.525143             0.461756   \n",
       "online,pro                        0.858366                  NaN   \n",
       "grpo,online                       0.870253                  NaN   \n",
       "supervised,pro                    0.899679                  NaN   \n",
       "grpo,ns-mix,supervised            0.856647             0.781823   \n",
       "grpo,ns-best,supervised           0.822821             0.710319   \n",
       "sft                               0.878520                  NaN   \n",
       "supervised,pro,sft                0.911957                  NaN   \n",
       "sft,train_temp=sched              0.898320                  NaN   \n",
       "beta0,grpo,supervised             0.888418             0.772114   \n",
       "grpo,supervised                   0.889481                  NaN   \n",
       "\n",
       "                           test/score_majority_pass2  \\\n",
       "tags                                                   \n",
       "full,grpo,supervised                        0.494181   \n",
       "full,sft,train_temp=sched                   0.491551   \n",
       "online,pro                                       NaN   \n",
       "grpo,online                                      NaN   \n",
       "supervised,pro                                   NaN   \n",
       "grpo,ns-mix,supervised                      0.824749   \n",
       "grpo,ns-best,supervised                     0.759037   \n",
       "sft                                              NaN   \n",
       "supervised,pro,sft                               NaN   \n",
       "sft,train_temp=sched                             NaN   \n",
       "beta0,grpo,supervised                       0.815865   \n",
       "grpo,supervised                                  NaN   \n",
       "\n",
       "                           validation/majority_reward  \\\n",
       "tags                                                    \n",
       "full,grpo,supervised                         0.644028   \n",
       "full,sft,train_temp=sched                    0.545484   \n",
       "online,pro                                   0.767570   \n",
       "grpo,online                                  0.789387   \n",
       "supervised,pro                               0.823586   \n",
       "grpo,ns-mix,supervised                       0.719439   \n",
       "grpo,ns-best,supervised                      0.672068   \n",
       "sft                                          0.788739   \n",
       "supervised,pro,sft                           0.803357   \n",
       "sft,train_temp=sched                         0.769897   \n",
       "beta0,grpo,supervised                        0.810240   \n",
       "grpo,supervised                              0.784964   \n",
       "\n",
       "                           validation/majority_count  \\\n",
       "tags                                                   \n",
       "full,grpo,supervised                        5.097046   \n",
       "full,sft,train_temp=sched                   4.782383   \n",
       "online,pro                                 17.314815   \n",
       "grpo,online                                16.759259   \n",
       "supervised,pro                             18.740741   \n",
       "grpo,ns-mix,supervised                     16.425926   \n",
       "grpo,ns-best,supervised                    17.166667   \n",
       "sft                                        18.092593   \n",
       "supervised,pro,sft                         17.777778   \n",
       "sft,train_temp=sched                       18.333333   \n",
       "beta0,grpo,supervised                      18.388889   \n",
       "grpo,supervised                            18.351852   \n",
       "\n",
       "                           train/reward_minus_replacement_mean  \\\n",
       "tags                                                             \n",
       "full,grpo,supervised                                  0.711952   \n",
       "full,sft,train_temp=sched                             0.621337   \n",
       "online,pro                                            0.653914   \n",
       "grpo,online                                           0.653499   \n",
       "supervised,pro                                        0.728166   \n",
       "grpo,ns-mix,supervised                                0.740047   \n",
       "grpo,ns-best,supervised                               0.769125   \n",
       "sft                                                   0.731850   \n",
       "supervised,pro,sft                                    0.734850   \n",
       "sft,train_temp=sched                                  0.725364   \n",
       "beta0,grpo,supervised                                 0.740065   \n",
       "grpo,supervised                                       0.786376   \n",
       "\n",
       "                           train/reward_minus_replacement_max  \n",
       "tags                                                           \n",
       "full,grpo,supervised                                 0.791028  \n",
       "full,sft,train_temp=sched                            0.621337  \n",
       "online,pro                                           0.755778  \n",
       "grpo,online                                          0.746892  \n",
       "supervised,pro                                       0.831245  \n",
       "grpo,ns-mix,supervised                               0.942185  \n",
       "grpo,ns-best,supervised                              0.965100  \n",
       "sft                                                  0.731850  \n",
       "supervised,pro,sft                                   0.848389  \n",
       "sft,train_temp=sched                                 0.725364  \n",
       "beta0,grpo,supervised                                0.826219  \n",
       "grpo,supervised                                      0.899993  "
      ],
      "text/html": [
       "<div>\n",
       "<style scoped>\n",
       "    .dataframe tbody tr th:only-of-type {\n",
       "        vertical-align: middle;\n",
       "    }\n",
       "\n",
       "    .dataframe tbody tr th {\n",
       "        vertical-align: top;\n",
       "    }\n",
       "\n",
       "    .dataframe thead th {\n",
       "        text-align: right;\n",
       "    }\n",
       "</style>\n",
       "<table border=\"1\" class=\"dataframe\">\n",
       "  <thead>\n",
       "    <tr style=\"text-align: right;\">\n",
       "      <th></th>\n",
       "      <th>count</th>\n",
       "      <th>_runtime</th>\n",
       "      <th>test/solved_majority</th>\n",
       "      <th>test/solved_majority_pass2</th>\n",
       "      <th>test/solved_oracle</th>\n",
       "      <th>test/best_score</th>\n",
       "      <th>test/score_majority</th>\n",
       "      <th>test/score_majority_pass2</th>\n",
       "      <th>validation/majority_reward</th>\n",
       "      <th>validation/majority_count</th>\n",
       "      <th>train/reward_minus_replacement_mean</th>\n",
       "      <th>train/reward_minus_replacement_max</th>\n",
       "    </tr>\n",
       "    <tr>\n",
       "      <th>tags</th>\n",
       "      <th></th>\n",
       "      <th></th>\n",
       "      <th></th>\n",
       "      <th></th>\n",
       "      <th></th>\n",
       "      <th></th>\n",
       "      <th></th>\n",
       "      <th></th>\n",
       "      <th></th>\n",
       "      <th></th>\n",
       "      <th></th>\n",
       "      <th></th>\n",
       "    </tr>\n",
       "  </thead>\n",
       "  <tbody>\n",
       "    <tr>\n",
       "      <th>full,grpo,supervised</th>\n",
       "      <td>237</td>\n",
       "      <td>2051.629581</td>\n",
       "      <td>0.109705</td>\n",
       "      <td>0.126582</td>\n",
       "      <td>0.156118</td>\n",
       "      <td>0.520282</td>\n",
       "      <td>0.467842</td>\n",
       "      <td>0.494181</td>\n",
       "      <td>0.644028</td>\n",
       "      <td>5.097046</td>\n",
       "      <td>0.711952</td>\n",
       "      <td>0.791028</td>\n",
       "    </tr>\n",
       "    <tr>\n",
       "      <th>full,sft,train_temp=sched</th>\n",
       "      <td>193</td>\n",
       "      <td>1531.188031</td>\n",
       "      <td>0.093264</td>\n",
       "      <td>0.129534</td>\n",
       "      <td>0.181347</td>\n",
       "      <td>0.525143</td>\n",
       "      <td>0.461756</td>\n",
       "      <td>0.491551</td>\n",
       "      <td>0.545484</td>\n",
       "      <td>4.782383</td>\n",
       "      <td>0.621337</td>\n",
       "      <td>0.621337</td>\n",
       "    </tr>\n",
       "    <tr>\n",
       "      <th>online,pro</th>\n",
       "      <td>54</td>\n",
       "      <td>282.565988</td>\n",
       "      <td>0.296296</td>\n",
       "      <td>0.425926</td>\n",
       "      <td>0.481481</td>\n",
       "      <td>0.858366</td>\n",
       "      <td>NaN</td>\n",
       "      <td>NaN</td>\n",
       "      <td>0.767570</td>\n",
       "      <td>17.314815</td>\n",
       "      <td>0.653914</td>\n",
       "      <td>0.755778</td>\n",
       "    </tr>\n",
       "    <tr>\n",
       "      <th>grpo,online</th>\n",
       "      <td>54</td>\n",
       "      <td>430.278034</td>\n",
       "      <td>0.314815</td>\n",
       "      <td>0.425926</td>\n",
       "      <td>0.462963</td>\n",
       "      <td>0.870253</td>\n",
       "      <td>NaN</td>\n",
       "      <td>NaN</td>\n",
       "      <td>0.789387</td>\n",
       "      <td>16.759259</td>\n",
       "      <td>0.653499</td>\n",
       "      <td>0.746892</td>\n",
       "    </tr>\n",
       "    <tr>\n",
       "      <th>supervised,pro</th>\n",
       "      <td>54</td>\n",
       "      <td>242.486204</td>\n",
       "      <td>0.351852</td>\n",
       "      <td>0.481481</td>\n",
       "      <td>0.537037</td>\n",
       "      <td>0.899679</td>\n",
       "      <td>NaN</td>\n",
       "      <td>NaN</td>\n",
       "      <td>0.823586</td>\n",
       "      <td>18.740741</td>\n",
       "      <td>0.728166</td>\n",
       "      <td>0.831245</td>\n",
       "    </tr>\n",
       "    <tr>\n",
       "      <th>grpo,ns-mix,supervised</th>\n",
       "      <td>54</td>\n",
       "      <td>579.714666</td>\n",
       "      <td>0.370370</td>\n",
       "      <td>0.481481</td>\n",
       "      <td>0.518519</td>\n",
       "      <td>0.856647</td>\n",
       "      <td>0.781823</td>\n",
       "      <td>0.824749</td>\n",
       "      <td>0.719439</td>\n",
       "      <td>16.425926</td>\n",
       "      <td>0.740047</td>\n",
       "      <td>0.942185</td>\n",
       "    </tr>\n",
       "    <tr>\n",
       "      <th>grpo,ns-best,supervised</th>\n",
       "      <td>54</td>\n",
       "      <td>375.636667</td>\n",
       "      <td>0.388889</td>\n",
       "      <td>0.500000</td>\n",
       "      <td>0.592593</td>\n",
       "      <td>0.822821</td>\n",
       "      <td>0.710319</td>\n",
       "      <td>0.759037</td>\n",
       "      <td>0.672068</td>\n",
       "      <td>17.166667</td>\n",
       "      <td>0.769125</td>\n",
       "      <td>0.965100</td>\n",
       "    </tr>\n",
       "    <tr>\n",
       "      <th>sft</th>\n",
       "      <td>54</td>\n",
       "      <td>131.012640</td>\n",
       "      <td>0.351852</td>\n",
       "      <td>0.518519</td>\n",
       "      <td>0.555556</td>\n",
       "      <td>0.878520</td>\n",
       "      <td>NaN</td>\n",
       "      <td>NaN</td>\n",
       "      <td>0.788739</td>\n",
       "      <td>18.092593</td>\n",
       "      <td>0.731850</td>\n",
       "      <td>0.731850</td>\n",
       "    </tr>\n",
       "    <tr>\n",
       "      <th>supervised,pro,sft</th>\n",
       "      <td>54</td>\n",
       "      <td>219.020248</td>\n",
       "      <td>0.370370</td>\n",
       "      <td>0.518519</td>\n",
       "      <td>0.574074</td>\n",
       "      <td>0.911957</td>\n",
       "      <td>NaN</td>\n",
       "      <td>NaN</td>\n",
       "      <td>0.803357</td>\n",
       "      <td>17.777778</td>\n",
       "      <td>0.734850</td>\n",
       "      <td>0.848389</td>\n",
       "    </tr>\n",
       "    <tr>\n",
       "      <th>sft,train_temp=sched</th>\n",
       "      <td>54</td>\n",
       "      <td>172.410281</td>\n",
       "      <td>0.388889</td>\n",
       "      <td>0.518519</td>\n",
       "      <td>0.574074</td>\n",
       "      <td>0.898320</td>\n",
       "      <td>NaN</td>\n",
       "      <td>NaN</td>\n",
       "      <td>0.769897</td>\n",
       "      <td>18.333333</td>\n",
       "      <td>0.725364</td>\n",
       "      <td>0.725364</td>\n",
       "    </tr>\n",
       "    <tr>\n",
       "      <th>beta0,grpo,supervised</th>\n",
       "      <td>54</td>\n",
       "      <td>405.133036</td>\n",
       "      <td>0.388889</td>\n",
       "      <td>0.537037</td>\n",
       "      <td>0.555556</td>\n",
       "      <td>0.888418</td>\n",
       "      <td>0.772114</td>\n",
       "      <td>0.815865</td>\n",
       "      <td>0.810240</td>\n",
       "      <td>18.388889</td>\n",
       "      <td>0.740065</td>\n",
       "      <td>0.826219</td>\n",
       "    </tr>\n",
       "    <tr>\n",
       "      <th>grpo,supervised</th>\n",
       "      <td>54</td>\n",
       "      <td>354.452279</td>\n",
       "      <td>0.388889</td>\n",
       "      <td>0.537037</td>\n",
       "      <td>0.592593</td>\n",
       "      <td>0.889481</td>\n",
       "      <td>NaN</td>\n",
       "      <td>NaN</td>\n",
       "      <td>0.784964</td>\n",
       "      <td>18.351852</td>\n",
       "      <td>0.786376</td>\n",
       "      <td>0.899993</td>\n",
       "    </tr>\n",
       "  </tbody>\n",
       "</table>\n",
       "</div>"
      ]
     },
     "execution_count": 12,
     "metadata": {},
     "output_type": "execute_result"
    }
   ],
   "execution_count": 12
  },
  {
   "metadata": {
    "ExecuteTime": {
     "end_time": "2025-04-02T12:38:41.487716Z",
     "start_time": "2025-04-02T12:38:41.452444Z"
    }
   },
   "cell_type": "code",
   "source": [
    "# Export this dataframe as a markdown table\n",
    "_md_table = res_df[~res_df['tags'].str.contains(\"full\")][['tags'] + numerical_cols].groupby(\"tags\").mean()\n",
    "_md_table = _md_table.sort_values(\"test/solved_majority_pass2\", ascending=True)\n",
    "print(_md_table.to_markdown(index=True))"
   ],
   "id": "155a7c8d45fbe4ce",
   "outputs": [
    {
     "name": "stdout",
     "output_type": "stream",
     "text": [
      "| tags                 |   _runtime |   test/solved_majority |   test/solved_majority_pass2 |   test/solved_oracle |   test/best_score |   validation/majority_reward |   validation/majority_count |   train/reward_minus_replacement_mean |   train/reward_minus_replacement_max |\n",
      "|:---------------------|-----------:|-----------------------:|-----------------------------:|---------------------:|------------------:|-----------------------------:|----------------------------:|--------------------------------------:|-------------------------------------:|\n",
      "| grpo,online          |    430.278 |               0.314815 |                     0.425926 |             0.462963 |          0.870253 |                     0.789387 |                     16.7593 |                              0.653499 |                             0.746892 |\n",
      "| online,pro           |    282.566 |               0.296296 |                     0.425926 |             0.481481 |          0.858366 |                     0.76757  |                     17.3148 |                              0.653914 |                             0.755778 |\n",
      "| grpo,ns-mix,oracle   |    579.715 |               0.37037  |                     0.481481 |             0.518519 |          0.856647 |                     0.719439 |                     16.4259 |                              0.740047 |                             0.942185 |\n",
      "| oracle,pro           |    242.486 |               0.351852 |                     0.481481 |             0.537037 |          0.899679 |                     0.823586 |                     18.7407 |                              0.728166 |                             0.831245 |\n",
      "| grpo,ns-best,oracle  |    375.637 |               0.388889 |                     0.5      |             0.592593 |          0.822821 |                     0.672068 |                     17.1667 |                              0.769125 |                             0.9651   |\n",
      "| oracle,pro,sft       |    219.02  |               0.37037  |                     0.518519 |             0.574074 |          0.911957 |                     0.803357 |                     17.7778 |                              0.73485  |                             0.848389 |\n",
      "| sft                  |    131.013 |               0.351852 |                     0.518519 |             0.555556 |          0.87852  |                     0.788739 |                     18.0926 |                              0.73185  |                             0.73185  |\n",
      "| sft,train_temp=sched |    172.41  |               0.388889 |                     0.518519 |             0.574074 |          0.89832  |                     0.769897 |                     18.3333 |                              0.725364 |                             0.725364 |\n",
      "| beta0,grpo,oracle    |    405.133 |               0.388889 |                     0.537037 |             0.555556 |          0.888418 |                     0.81024  |                     18.3889 |                              0.740065 |                             0.826219 |\n",
      "| grpo,oracle          |    354.452 |               0.388889 |                     0.537037 |             0.592593 |          0.889481 |                     0.784964 |                     18.3519 |                              0.786376 |                             0.899993 |\n"
     ]
    }
   ],
   "execution_count": 14
  },
  {
   "metadata": {
    "ExecuteTime": {
     "end_time": "2025-04-08T07:23:06.038584Z",
     "start_time": "2025-04-08T07:23:06.028483Z"
    }
   },
   "cell_type": "code",
   "source": [
    "# View the resuls for \"full,grpo,supervised\" by task difficulty\n",
    "res_df_full = res_df[res_df['tags'].str.contains(\"full,grpo,supervised\")]\n",
    "res_df_full = res_df_full.sort_values(\"test/solved_majority_pass2\", ascending=True)\n",
    "res_df_full[\"task_difficulty\"] = res_df_full[\"target\"].apply(lambda x: task_difficulty[x])\n",
    "res_df_full[\"task_train_examples\"] = res_df_full[\"target\"].apply(lambda x: str(task_train_examples[x]))\n",
    "res_df_full = res_df_full.sort_values(\"task_difficulty\", ascending=True)\n",
    "# Show results\n",
    "res_df_full[[\"task_difficulty\"] + numerical_cols].groupby(\"task_difficulty\").mean()\n",
    "# res_df_full[[\"task_train_examples\"] + numerical_cols].groupby(\"task_train_examples\").mean()"
   ],
   "id": "daa576ac68a4d3c9",
   "outputs": [
    {
     "data": {
      "text/plain": [
       "                    _runtime  test/solved_majority  \\\n",
       "task_difficulty                                      \n",
       "easy             1721.716170              0.171429   \n",
       "expert           3422.251446              0.000000   \n",
       "hard             1994.841750              0.025641   \n",
       "medium           2330.538195              0.084337   \n",
       "\n",
       "                 test/solved_majority_pass2  test/solved_oracle  \\\n",
       "task_difficulty                                                   \n",
       "easy                               0.200000            0.219048   \n",
       "expert                             0.000000            0.000000   \n",
       "hard                               0.051282            0.076923   \n",
       "medium                             0.084337            0.132530   \n",
       "\n",
       "                 test/best_score  test/score_majority  \\\n",
       "task_difficulty                                         \n",
       "easy                    0.554099             0.502787   \n",
       "expert                  0.385037             0.360694   \n",
       "hard                    0.607441             0.548424   \n",
       "medium                  0.452841             0.398680   \n",
       "\n",
       "                 test/score_majority_pass2  validation/majority_reward  \\\n",
       "task_difficulty                                                          \n",
       "easy                              0.531326                    0.644221   \n",
       "expert                            0.374980                    0.391458   \n",
       "hard                              0.567396                    0.716730   \n",
       "medium                            0.427149                    0.640053   \n",
       "\n",
       "                 validation/majority_count  \\\n",
       "task_difficulty                              \n",
       "easy                              3.619048   \n",
       "expert                            3.300000   \n",
       "hard                             11.333333   \n",
       "medium                            4.253012   \n",
       "\n",
       "                 train/reward_minus_replacement_mean  \\\n",
       "task_difficulty                                        \n",
       "easy                                        0.705332   \n",
       "expert                                      0.656927   \n",
       "hard                                        0.715334   \n",
       "medium                                      0.725368   \n",
       "\n",
       "                 train/reward_minus_replacement_max  \n",
       "task_difficulty                                      \n",
       "easy                                       0.795230  \n",
       "expert                                     0.728329  \n",
       "hard                                       0.779198  \n",
       "medium                                     0.798824  "
      ],
      "text/html": [
       "<div>\n",
       "<style scoped>\n",
       "    .dataframe tbody tr th:only-of-type {\n",
       "        vertical-align: middle;\n",
       "    }\n",
       "\n",
       "    .dataframe tbody tr th {\n",
       "        vertical-align: top;\n",
       "    }\n",
       "\n",
       "    .dataframe thead th {\n",
       "        text-align: right;\n",
       "    }\n",
       "</style>\n",
       "<table border=\"1\" class=\"dataframe\">\n",
       "  <thead>\n",
       "    <tr style=\"text-align: right;\">\n",
       "      <th></th>\n",
       "      <th>_runtime</th>\n",
       "      <th>test/solved_majority</th>\n",
       "      <th>test/solved_majority_pass2</th>\n",
       "      <th>test/solved_oracle</th>\n",
       "      <th>test/best_score</th>\n",
       "      <th>test/score_majority</th>\n",
       "      <th>test/score_majority_pass2</th>\n",
       "      <th>validation/majority_reward</th>\n",
       "      <th>validation/majority_count</th>\n",
       "      <th>train/reward_minus_replacement_mean</th>\n",
       "      <th>train/reward_minus_replacement_max</th>\n",
       "    </tr>\n",
       "    <tr>\n",
       "      <th>task_difficulty</th>\n",
       "      <th></th>\n",
       "      <th></th>\n",
       "      <th></th>\n",
       "      <th></th>\n",
       "      <th></th>\n",
       "      <th></th>\n",
       "      <th></th>\n",
       "      <th></th>\n",
       "      <th></th>\n",
       "      <th></th>\n",
       "      <th></th>\n",
       "    </tr>\n",
       "  </thead>\n",
       "  <tbody>\n",
       "    <tr>\n",
       "      <th>easy</th>\n",
       "      <td>1721.716170</td>\n",
       "      <td>0.171429</td>\n",
       "      <td>0.200000</td>\n",
       "      <td>0.219048</td>\n",
       "      <td>0.554099</td>\n",
       "      <td>0.502787</td>\n",
       "      <td>0.531326</td>\n",
       "      <td>0.644221</td>\n",
       "      <td>3.619048</td>\n",
       "      <td>0.705332</td>\n",
       "      <td>0.795230</td>\n",
       "    </tr>\n",
       "    <tr>\n",
       "      <th>expert</th>\n",
       "      <td>3422.251446</td>\n",
       "      <td>0.000000</td>\n",
       "      <td>0.000000</td>\n",
       "      <td>0.000000</td>\n",
       "      <td>0.385037</td>\n",
       "      <td>0.360694</td>\n",
       "      <td>0.374980</td>\n",
       "      <td>0.391458</td>\n",
       "      <td>3.300000</td>\n",
       "      <td>0.656927</td>\n",
       "      <td>0.728329</td>\n",
       "    </tr>\n",
       "    <tr>\n",
       "      <th>hard</th>\n",
       "      <td>1994.841750</td>\n",
       "      <td>0.025641</td>\n",
       "      <td>0.051282</td>\n",
       "      <td>0.076923</td>\n",
       "      <td>0.607441</td>\n",
       "      <td>0.548424</td>\n",
       "      <td>0.567396</td>\n",
       "      <td>0.716730</td>\n",
       "      <td>11.333333</td>\n",
       "      <td>0.715334</td>\n",
       "      <td>0.779198</td>\n",
       "    </tr>\n",
       "    <tr>\n",
       "      <th>medium</th>\n",
       "      <td>2330.538195</td>\n",
       "      <td>0.084337</td>\n",
       "      <td>0.084337</td>\n",
       "      <td>0.132530</td>\n",
       "      <td>0.452841</td>\n",
       "      <td>0.398680</td>\n",
       "      <td>0.427149</td>\n",
       "      <td>0.640053</td>\n",
       "      <td>4.253012</td>\n",
       "      <td>0.725368</td>\n",
       "      <td>0.798824</td>\n",
       "    </tr>\n",
       "  </tbody>\n",
       "</table>\n",
       "</div>"
      ]
     },
     "execution_count": 13,
     "metadata": {},
     "output_type": "execute_result"
    }
   ],
   "execution_count": 13
  },
  {
   "metadata": {
    "ExecuteTime": {
     "end_time": "2025-04-03T04:48:59.677237Z",
     "start_time": "2025-04-03T04:48:59.672497Z"
    }
   },
   "cell_type": "code",
   "source": [
    "res_df_not_full = res_df[~res_df['tags'].str.contains(\"full\")]\n",
    "res_df_full = res_df[res_df['tags'].str.contains(\"full\")]"
   ],
   "id": "9355ec2f12157153",
   "outputs": [],
   "execution_count": 34
  },
  {
   "metadata": {
    "ExecuteTime": {
     "end_time": "2025-04-03T04:53:19.223854Z",
     "start_time": "2025-04-03T04:53:19.211499Z"
    }
   },
   "cell_type": "code",
   "source": [
    "res_df_full[['tags'] + numerical_cols].groupby(\"tags\").mean()\n",
    "\n",
    "# Create new column aggregating test and validation solved status with an or condition\n",
    "res_df_full.insert(0, \"solved_test_valid\", (res_df_full[\"test/solved_majority_pass2\"] == 1) | (res_df_full[\"validation/majority_reward\"] == 1))"
   ],
   "id": "9380324b87ed03f8",
   "outputs": [
    {
     "ename": "ValueError",
     "evalue": "cannot insert solved_test_valid, already exists",
     "output_type": "error",
     "traceback": [
      "\u001B[0;31m---------------------------------------------------------------------------\u001B[0m",
      "\u001B[0;31mValueError\u001B[0m                                Traceback (most recent call last)",
      "\u001B[0;32m/var/folders/kb/dtwk2z9d1zn1d1twxx0fvcjh0000gq/T/ipykernel_63512/54523034.py\u001B[0m in \u001B[0;36m?\u001B[0;34m()\u001B[0m\n\u001B[1;32m      2\u001B[0m \u001B[0;34m\u001B[0m\u001B[0m\n\u001B[1;32m      3\u001B[0m \u001B[0;31m# Create new column aggregating test and validation solved status with an or condition\u001B[0m\u001B[0;34m\u001B[0m\u001B[0;34m\u001B[0m\u001B[0m\n\u001B[1;32m      4\u001B[0m \u001B[0;31m# res_df_full[\"solved_test_valid\"] = (res_df_full[\"test/solved_majority_pass2\"] == 1) | (res_df_full[\"validation/majority_reward\"] == 1)\u001B[0m\u001B[0;34m\u001B[0m\u001B[0;34m\u001B[0m\u001B[0m\n\u001B[1;32m      5\u001B[0m \u001B[0;31m# Use insert\u001B[0m\u001B[0;34m\u001B[0m\u001B[0;34m\u001B[0m\u001B[0m\n\u001B[0;32m----> 6\u001B[0;31m \u001B[0mres_df_full\u001B[0m\u001B[0;34m.\u001B[0m\u001B[0minsert\u001B[0m\u001B[0;34m(\u001B[0m\u001B[0;36m0\u001B[0m\u001B[0;34m,\u001B[0m \u001B[0;34m\"solved_test_valid\"\u001B[0m\u001B[0;34m,\u001B[0m \u001B[0;34m(\u001B[0m\u001B[0mres_df_full\u001B[0m\u001B[0;34m[\u001B[0m\u001B[0;34m\"test/solved_majority_pass2\"\u001B[0m\u001B[0;34m]\u001B[0m \u001B[0;34m==\u001B[0m \u001B[0;36m1\u001B[0m\u001B[0;34m)\u001B[0m \u001B[0;34m|\u001B[0m \u001B[0;34m(\u001B[0m\u001B[0mres_df_full\u001B[0m\u001B[0;34m[\u001B[0m\u001B[0;34m\"validation/majority_reward\"\u001B[0m\u001B[0;34m]\u001B[0m \u001B[0;34m==\u001B[0m \u001B[0;36m1\u001B[0m\u001B[0;34m)\u001B[0m\u001B[0;34m)\u001B[0m\u001B[0;34m\u001B[0m\u001B[0;34m\u001B[0m\u001B[0m\n\u001B[0m",
      "\u001B[0;32m~/miniconda3/envs/local-env/lib/python3.11/site-packages/pandas/core/frame.py\u001B[0m in \u001B[0;36m?\u001B[0;34m(self, loc, column, value, allow_duplicates)\u001B[0m\n\u001B[1;32m   5154\u001B[0m                 \u001B[0;34m\"'self.flags.allows_duplicate_labels' is False.\"\u001B[0m\u001B[0;34m\u001B[0m\u001B[0;34m\u001B[0m\u001B[0m\n\u001B[1;32m   5155\u001B[0m             )\n\u001B[1;32m   5156\u001B[0m         \u001B[0;32mif\u001B[0m \u001B[0;32mnot\u001B[0m \u001B[0mallow_duplicates\u001B[0m \u001B[0;32mand\u001B[0m \u001B[0mcolumn\u001B[0m \u001B[0;32min\u001B[0m \u001B[0mself\u001B[0m\u001B[0;34m.\u001B[0m\u001B[0mcolumns\u001B[0m\u001B[0;34m:\u001B[0m\u001B[0;34m\u001B[0m\u001B[0;34m\u001B[0m\u001B[0m\n\u001B[1;32m   5157\u001B[0m             \u001B[0;31m# Should this be a different kind of error??\u001B[0m\u001B[0;34m\u001B[0m\u001B[0;34m\u001B[0m\u001B[0m\n\u001B[0;32m-> 5158\u001B[0;31m             \u001B[0;32mraise\u001B[0m \u001B[0mValueError\u001B[0m\u001B[0;34m(\u001B[0m\u001B[0;34mf\"cannot insert {column}, already exists\"\u001B[0m\u001B[0;34m)\u001B[0m\u001B[0;34m\u001B[0m\u001B[0;34m\u001B[0m\u001B[0m\n\u001B[0m\u001B[1;32m   5159\u001B[0m         \u001B[0;32mif\u001B[0m \u001B[0;32mnot\u001B[0m \u001B[0mis_integer\u001B[0m\u001B[0;34m(\u001B[0m\u001B[0mloc\u001B[0m\u001B[0;34m)\u001B[0m\u001B[0;34m:\u001B[0m\u001B[0;34m\u001B[0m\u001B[0;34m\u001B[0m\u001B[0m\n\u001B[1;32m   5160\u001B[0m             \u001B[0;32mraise\u001B[0m \u001B[0mTypeError\u001B[0m\u001B[0;34m(\u001B[0m\u001B[0;34m\"loc must be int\"\u001B[0m\u001B[0;34m)\u001B[0m\u001B[0;34m\u001B[0m\u001B[0;34m\u001B[0m\u001B[0m\n\u001B[1;32m   5161\u001B[0m         \u001B[0;31m# convert non stdlib ints to satisfy typing checks\u001B[0m\u001B[0;34m\u001B[0m\u001B[0;34m\u001B[0m\u001B[0m\n",
      "\u001B[0;31mValueError\u001B[0m: cannot insert solved_test_valid, already exists"
     ]
    }
   ],
   "execution_count": 40
  },
  {
   "metadata": {
    "ExecuteTime": {
     "end_time": "2025-04-03T04:56:29.249044Z",
     "start_time": "2025-04-03T04:56:29.240780Z"
    }
   },
   "cell_type": "code",
   "source": "res_df_full[res_df_full[\"solved_test_valid\"] == 0]",
   "id": "c078c1d16d1ec6ab",
   "outputs": [
    {
     "data": {
      "text/plain": [
       "                          tags    target     _runtime test/solved_majority  \\\n",
       "540  full,sft,train_temp=sched  782b5218  1438.799311                False   \n",
       "541  full,sft,train_temp=sched  ff72ca3e  1140.944812                  NaN   \n",
       "543  full,sft,train_temp=sched  93b4f4b3   640.346043                False   \n",
       "545  full,sft,train_temp=sched  85fa5666  1470.628006                  NaN   \n",
       "548  full,sft,train_temp=sched  2697da3f  2019.094045                  NaN   \n",
       "..                         ...       ...          ...                  ...   \n",
       "918           full,grpo,oracle  0f63c0b9  3433.182864                False   \n",
       "919           full,grpo,oracle  c64f1187  2634.359032                False   \n",
       "920           full,grpo,oracle  d931c21c  2245.675214                False   \n",
       "921           full,grpo,oracle  96a8c0cd  2721.021496                False   \n",
       "923           full,grpo,oracle  20818e16  1660.671937                False   \n",
       "\n",
       "    test/solved_majority_pass2 test/solved_oracle  test/best_score  \\\n",
       "540                      False              False         0.860000   \n",
       "541                        NaN                NaN              NaN   \n",
       "543                      False              False         0.858824   \n",
       "545                        NaN                NaN              NaN   \n",
       "548                        NaN                NaN              NaN   \n",
       "..                         ...                ...              ...   \n",
       "918                      False              False         0.000000   \n",
       "919                      False              False         0.000000   \n",
       "920                      False              False         0.000000   \n",
       "921                      False              False         0.000000   \n",
       "923                      False              False         0.000000   \n",
       "\n",
       "     test/score_majority  test/score_majority_pass2  \\\n",
       "540             0.460000                   0.460000   \n",
       "541                  NaN                        NaN   \n",
       "543             0.858824                   0.858824   \n",
       "545                  NaN                        NaN   \n",
       "548                  NaN                        NaN   \n",
       "..                   ...                        ...   \n",
       "918             0.000000                   0.000000   \n",
       "919             0.000000                   0.000000   \n",
       "920             0.000000                   0.000000   \n",
       "921             0.000000                   0.000000   \n",
       "923             0.000000                   0.000000   \n",
       "\n",
       "     validation/majority_reward  validation/majority_count  \\\n",
       "540                    0.290000                          3   \n",
       "541                    0.641667                          4   \n",
       "543                    0.733333                          1   \n",
       "545                    0.913580                          8   \n",
       "548                    0.342222                          4   \n",
       "..                          ...                        ...   \n",
       "918                    0.000000                          1   \n",
       "919                    0.647727                          1   \n",
       "920                    0.531250                          2   \n",
       "921                    0.821970                          1   \n",
       "923                    0.000000                          2   \n",
       "\n",
       "     train/reward_minus_replacement_mean  train/reward_minus_replacement_max  \\\n",
       "540                             1.000000                            1.000000   \n",
       "541                             1.000000                            1.000000   \n",
       "543                             1.000000                            1.000000   \n",
       "545                             1.000000                            1.000000   \n",
       "548                             0.484444                            0.484444   \n",
       "..                                   ...                                 ...   \n",
       "918                             0.007407                            0.066667   \n",
       "919                             1.000000                            1.000000   \n",
       "920                             0.491228                            0.710526   \n",
       "921                             0.146465                            0.738636   \n",
       "923                             0.956790                            1.000000   \n",
       "\n",
       "     solved_test_valid  \n",
       "540              False  \n",
       "541              False  \n",
       "543              False  \n",
       "545              False  \n",
       "548              False  \n",
       "..                 ...  \n",
       "918              False  \n",
       "919              False  \n",
       "920              False  \n",
       "921              False  \n",
       "923              False  \n",
       "\n",
       "[300 rows x 14 columns]"
      ],
      "text/html": [
       "<div>\n",
       "<style scoped>\n",
       "    .dataframe tbody tr th:only-of-type {\n",
       "        vertical-align: middle;\n",
       "    }\n",
       "\n",
       "    .dataframe tbody tr th {\n",
       "        vertical-align: top;\n",
       "    }\n",
       "\n",
       "    .dataframe thead th {\n",
       "        text-align: right;\n",
       "    }\n",
       "</style>\n",
       "<table border=\"1\" class=\"dataframe\">\n",
       "  <thead>\n",
       "    <tr style=\"text-align: right;\">\n",
       "      <th></th>\n",
       "      <th>tags</th>\n",
       "      <th>target</th>\n",
       "      <th>_runtime</th>\n",
       "      <th>test/solved_majority</th>\n",
       "      <th>test/solved_majority_pass2</th>\n",
       "      <th>test/solved_oracle</th>\n",
       "      <th>test/best_score</th>\n",
       "      <th>test/score_majority</th>\n",
       "      <th>test/score_majority_pass2</th>\n",
       "      <th>validation/majority_reward</th>\n",
       "      <th>validation/majority_count</th>\n",
       "      <th>train/reward_minus_replacement_mean</th>\n",
       "      <th>train/reward_minus_replacement_max</th>\n",
       "      <th>solved_test_valid</th>\n",
       "    </tr>\n",
       "  </thead>\n",
       "  <tbody>\n",
       "    <tr>\n",
       "      <th>540</th>\n",
       "      <td>full,sft,train_temp=sched</td>\n",
       "      <td>782b5218</td>\n",
       "      <td>1438.799311</td>\n",
       "      <td>False</td>\n",
       "      <td>False</td>\n",
       "      <td>False</td>\n",
       "      <td>0.860000</td>\n",
       "      <td>0.460000</td>\n",
       "      <td>0.460000</td>\n",
       "      <td>0.290000</td>\n",
       "      <td>3</td>\n",
       "      <td>1.000000</td>\n",
       "      <td>1.000000</td>\n",
       "      <td>False</td>\n",
       "    </tr>\n",
       "    <tr>\n",
       "      <th>541</th>\n",
       "      <td>full,sft,train_temp=sched</td>\n",
       "      <td>ff72ca3e</td>\n",
       "      <td>1140.944812</td>\n",
       "      <td>NaN</td>\n",
       "      <td>NaN</td>\n",
       "      <td>NaN</td>\n",
       "      <td>NaN</td>\n",
       "      <td>NaN</td>\n",
       "      <td>NaN</td>\n",
       "      <td>0.641667</td>\n",
       "      <td>4</td>\n",
       "      <td>1.000000</td>\n",
       "      <td>1.000000</td>\n",
       "      <td>False</td>\n",
       "    </tr>\n",
       "    <tr>\n",
       "      <th>543</th>\n",
       "      <td>full,sft,train_temp=sched</td>\n",
       "      <td>93b4f4b3</td>\n",
       "      <td>640.346043</td>\n",
       "      <td>False</td>\n",
       "      <td>False</td>\n",
       "      <td>False</td>\n",
       "      <td>0.858824</td>\n",
       "      <td>0.858824</td>\n",
       "      <td>0.858824</td>\n",
       "      <td>0.733333</td>\n",
       "      <td>1</td>\n",
       "      <td>1.000000</td>\n",
       "      <td>1.000000</td>\n",
       "      <td>False</td>\n",
       "    </tr>\n",
       "    <tr>\n",
       "      <th>545</th>\n",
       "      <td>full,sft,train_temp=sched</td>\n",
       "      <td>85fa5666</td>\n",
       "      <td>1470.628006</td>\n",
       "      <td>NaN</td>\n",
       "      <td>NaN</td>\n",
       "      <td>NaN</td>\n",
       "      <td>NaN</td>\n",
       "      <td>NaN</td>\n",
       "      <td>NaN</td>\n",
       "      <td>0.913580</td>\n",
       "      <td>8</td>\n",
       "      <td>1.000000</td>\n",
       "      <td>1.000000</td>\n",
       "      <td>False</td>\n",
       "    </tr>\n",
       "    <tr>\n",
       "      <th>548</th>\n",
       "      <td>full,sft,train_temp=sched</td>\n",
       "      <td>2697da3f</td>\n",
       "      <td>2019.094045</td>\n",
       "      <td>NaN</td>\n",
       "      <td>NaN</td>\n",
       "      <td>NaN</td>\n",
       "      <td>NaN</td>\n",
       "      <td>NaN</td>\n",
       "      <td>NaN</td>\n",
       "      <td>0.342222</td>\n",
       "      <td>4</td>\n",
       "      <td>0.484444</td>\n",
       "      <td>0.484444</td>\n",
       "      <td>False</td>\n",
       "    </tr>\n",
       "    <tr>\n",
       "      <th>...</th>\n",
       "      <td>...</td>\n",
       "      <td>...</td>\n",
       "      <td>...</td>\n",
       "      <td>...</td>\n",
       "      <td>...</td>\n",
       "      <td>...</td>\n",
       "      <td>...</td>\n",
       "      <td>...</td>\n",
       "      <td>...</td>\n",
       "      <td>...</td>\n",
       "      <td>...</td>\n",
       "      <td>...</td>\n",
       "      <td>...</td>\n",
       "      <td>...</td>\n",
       "    </tr>\n",
       "    <tr>\n",
       "      <th>918</th>\n",
       "      <td>full,grpo,oracle</td>\n",
       "      <td>0f63c0b9</td>\n",
       "      <td>3433.182864</td>\n",
       "      <td>False</td>\n",
       "      <td>False</td>\n",
       "      <td>False</td>\n",
       "      <td>0.000000</td>\n",
       "      <td>0.000000</td>\n",
       "      <td>0.000000</td>\n",
       "      <td>0.000000</td>\n",
       "      <td>1</td>\n",
       "      <td>0.007407</td>\n",
       "      <td>0.066667</td>\n",
       "      <td>False</td>\n",
       "    </tr>\n",
       "    <tr>\n",
       "      <th>919</th>\n",
       "      <td>full,grpo,oracle</td>\n",
       "      <td>c64f1187</td>\n",
       "      <td>2634.359032</td>\n",
       "      <td>False</td>\n",
       "      <td>False</td>\n",
       "      <td>False</td>\n",
       "      <td>0.000000</td>\n",
       "      <td>0.000000</td>\n",
       "      <td>0.000000</td>\n",
       "      <td>0.647727</td>\n",
       "      <td>1</td>\n",
       "      <td>1.000000</td>\n",
       "      <td>1.000000</td>\n",
       "      <td>False</td>\n",
       "    </tr>\n",
       "    <tr>\n",
       "      <th>920</th>\n",
       "      <td>full,grpo,oracle</td>\n",
       "      <td>d931c21c</td>\n",
       "      <td>2245.675214</td>\n",
       "      <td>False</td>\n",
       "      <td>False</td>\n",
       "      <td>False</td>\n",
       "      <td>0.000000</td>\n",
       "      <td>0.000000</td>\n",
       "      <td>0.000000</td>\n",
       "      <td>0.531250</td>\n",
       "      <td>2</td>\n",
       "      <td>0.491228</td>\n",
       "      <td>0.710526</td>\n",
       "      <td>False</td>\n",
       "    </tr>\n",
       "    <tr>\n",
       "      <th>921</th>\n",
       "      <td>full,grpo,oracle</td>\n",
       "      <td>96a8c0cd</td>\n",
       "      <td>2721.021496</td>\n",
       "      <td>False</td>\n",
       "      <td>False</td>\n",
       "      <td>False</td>\n",
       "      <td>0.000000</td>\n",
       "      <td>0.000000</td>\n",
       "      <td>0.000000</td>\n",
       "      <td>0.821970</td>\n",
       "      <td>1</td>\n",
       "      <td>0.146465</td>\n",
       "      <td>0.738636</td>\n",
       "      <td>False</td>\n",
       "    </tr>\n",
       "    <tr>\n",
       "      <th>923</th>\n",
       "      <td>full,grpo,oracle</td>\n",
       "      <td>20818e16</td>\n",
       "      <td>1660.671937</td>\n",
       "      <td>False</td>\n",
       "      <td>False</td>\n",
       "      <td>False</td>\n",
       "      <td>0.000000</td>\n",
       "      <td>0.000000</td>\n",
       "      <td>0.000000</td>\n",
       "      <td>0.000000</td>\n",
       "      <td>2</td>\n",
       "      <td>0.956790</td>\n",
       "      <td>1.000000</td>\n",
       "      <td>False</td>\n",
       "    </tr>\n",
       "  </tbody>\n",
       "</table>\n",
       "<p>300 rows × 14 columns</p>\n",
       "</div>"
      ]
     },
     "execution_count": 44,
     "metadata": {},
     "output_type": "execute_result"
    }
   ],
   "execution_count": 44
  },
  {
   "metadata": {
    "ExecuteTime": {
     "end_time": "2025-04-03T04:54:01.569698Z",
     "start_time": "2025-04-03T04:54:01.560400Z"
    }
   },
   "cell_type": "code",
   "source": "res_df_full[[\"tags\", \"solved_test_valid\"]].groupby(\"tags\").mean()",
   "id": "aab373b4388b48d1",
   "outputs": [
    {
     "data": {
      "text/plain": [
       "                           solved_test_valid\n",
       "tags                                        \n",
       "full,grpo,oracle                    0.228311\n",
       "full,sft,train_temp=sched           0.206061"
      ],
      "text/html": [
       "<div>\n",
       "<style scoped>\n",
       "    .dataframe tbody tr th:only-of-type {\n",
       "        vertical-align: middle;\n",
       "    }\n",
       "\n",
       "    .dataframe tbody tr th {\n",
       "        vertical-align: top;\n",
       "    }\n",
       "\n",
       "    .dataframe thead th {\n",
       "        text-align: right;\n",
       "    }\n",
       "</style>\n",
       "<table border=\"1\" class=\"dataframe\">\n",
       "  <thead>\n",
       "    <tr style=\"text-align: right;\">\n",
       "      <th></th>\n",
       "      <th>solved_test_valid</th>\n",
       "    </tr>\n",
       "    <tr>\n",
       "      <th>tags</th>\n",
       "      <th></th>\n",
       "    </tr>\n",
       "  </thead>\n",
       "  <tbody>\n",
       "    <tr>\n",
       "      <th>full,grpo,oracle</th>\n",
       "      <td>0.228311</td>\n",
       "    </tr>\n",
       "    <tr>\n",
       "      <th>full,sft,train_temp=sched</th>\n",
       "      <td>0.206061</td>\n",
       "    </tr>\n",
       "  </tbody>\n",
       "</table>\n",
       "</div>"
      ]
     },
     "execution_count": 42,
     "metadata": {},
     "output_type": "execute_result"
    }
   ],
   "execution_count": 42
  },
  {
   "metadata": {
    "ExecuteTime": {
     "end_time": "2025-04-02T12:45:18.409474Z",
     "start_time": "2025-04-02T12:45:17.687797Z"
    }
   },
   "cell_type": "code",
   "source": [
    "# Plot results\n",
    "fig, ax = plt.subplots(figsize=(10, 8))\n",
    "sns.barplot(data=res_df, x=\"test/solved_oracle\", y=\"tags\", ax=ax, label=\"Oracle\")\n",
    "sns.barplot(data=res_df, x=\"test/solved_majority_pass2\", y=\"tags\", ax=ax, label=\"Majority (pass@2)\")\n",
    "sns.barplot(data=res_df, x=\"test/solved_majority\", y=\"tags\", ax=ax, label=\"Majority (pass@1)\")\n",
    "# Add legend\n",
    "ax.legend()\n",
    "# Hide x/y labels\n",
    "ax.set_xlabel(\"\")\n",
    "ax.set_ylabel(\"\")\n",
    "plt.show()\n"
   ],
   "id": "a980a2dc87376ace",
   "outputs": [
    {
     "data": {
      "text/plain": [
       "<Figure size 1000x800 with 1 Axes>"
      ],
      "image/png": "[encoded data removed]"
     },
     "metadata": {},
     "output_type": "display_data"
    }
   ],
   "execution_count": 16
  },
  {
   "metadata": {
    "ExecuteTime": {
     "end_time": "2025-04-02T13:56:30.841187Z",
     "start_time": "2025-04-02T13:56:30.830269Z"
    }
   },
   "cell_type": "code",
   "source": "\",\".join(res_df[res_df[\"tags\"]==\"full,grpo,oracle\"].target)",
   "id": "450ec306f4e98226",
   "outputs": [
    {
     "data": {
      "text/plain": [
       "'6df30ad6,782b5218,2697da3f,93b4f4b3,ff72ca3e,e872b94a,73182012,85fa5666,332efdb3,e7a25a18,da2b0fe3,f83cb3f6,67636eac,8719f442,20818e16,11e1fe23,456873bc,9a4bb226,e5790162,2a5f8217,9b365c51,d47aa2ff,604001fa,bcb3040b,bf699163,fb791726,e1baa8a4,e74e1818,72207abc,103eff5b,ecaa0ec1,9f27f097,94414823,5b692c0f,ae58858e,f0afb749,85b81ff1,695367ec,d5c634a2,b0f4d537,9c1e755f,17b80ad2,11e1fe23,3490cc26,d94c3b52,ce039d91,93b4f4b3,f0df5ff0,3194b014,0d87d2a6,cd3c21df,12997ef3,917bccba,5b692c0f,d282b262,b15fca0b,3ee1011a,09c534e7,ae58858e,58e15b12,94133066,3a301edc,0a1d4ef5,896d5239,f3e62deb,e9ac8c9e,37d3e8b2,29700607,25094a63,e9bb6954,a57f2f04,695367ec,f823c43c,ba9d41b8,292dd178,d94c3b52,f5c89df1,b7cb93ac,3ee1011a,94133066,896d5239,37d3e8b2,e9bb6954,81c0276b,4e469f39,604001fa,184a9768,639f5a19,456873bc,c62e2108,a680ac02,e619ca6e,69889d6e,b0f4d537,fd4b2b02,81c0276b,d56f2372,d2acf2cb,cb227835,15696249,52fd389e,ef26cbf6,292dd178,0e671a1a,896d5239,8fbca751,332efdb3,a3f84088,aee291af,4364c1c4,4c177718,f823c43c,4f537728,cd3c21df,d4c90558,95a58926,d4b1c2b1,bc4146bd,e7dd8335,cf133acc,b942fd60,90347967,67636eac,c87289bb,cfb2ce5a,505fff84,e41c6fd3,4e45f183,e88171ec,a57f2f04,212895b5,73ccf9c2,e872b94a,12eac192,ff72ca3e,9ddd00f0,3f23242b,8719f442,137f0df0,37d3e8b2,319f2597,423a55dc,85b81ff1,bf32578f,29700607,c92b942c,bd14c3bf,67c52801,ad7e01d0,0f63c0b9,759f3fd3,f9a67cb5,516b51b7,1c0d0a4b,f83cb3f6,c1990cce,3979b1a8'"
      ]
     },
     "execution_count": 26,
     "metadata": {},
     "output_type": "execute_result"
    }
   ],
   "execution_count": 26
  },
  {
   "metadata": {
    "ExecuteTime": {
     "end_time": "2025-04-03T05:29:53.398238Z",
     "start_time": "2025-04-03T05:29:53.273024Z"
    }
   },
   "cell_type": "code",
   "source": [
    "# Find targets solved only by a specific method\n",
    "# Create a pivot table\n",
    "pivot = res_df.pivot(index=\"target\", columns=\"tags\", values=\"test/solved_majority_pass2\")"
   ],
   "id": "e5832ec3f3059f52",
   "outputs": [
    {
     "ename": "ValueError",
     "evalue": "Index contains duplicate entries, cannot reshape",
     "output_type": "error",
     "traceback": [
      "\u001B[0;31m---------------------------------------------------------------------------\u001B[0m",
      "\u001B[0;31mValueError\u001B[0m                                Traceback (most recent call last)",
      "Cell \u001B[0;32mIn[45], line 3\u001B[0m\n\u001B[1;32m      1\u001B[0m \u001B[38;5;66;03m# Find targets solved only by a specific method\u001B[39;00m\n\u001B[1;32m      2\u001B[0m \u001B[38;5;66;03m# Create a pivot table\u001B[39;00m\n\u001B[0;32m----> 3\u001B[0m pivot \u001B[38;5;241m=\u001B[39m \u001B[43mres_df\u001B[49m\u001B[38;5;241;43m.\u001B[39;49m\u001B[43mpivot\u001B[49m\u001B[43m(\u001B[49m\u001B[43mindex\u001B[49m\u001B[38;5;241;43m=\u001B[39;49m\u001B[38;5;124;43m\"\u001B[39;49m\u001B[38;5;124;43mtarget\u001B[39;49m\u001B[38;5;124;43m\"\u001B[39;49m\u001B[43m,\u001B[49m\u001B[43m \u001B[49m\u001B[43mcolumns\u001B[49m\u001B[38;5;241;43m=\u001B[39;49m\u001B[38;5;124;43m\"\u001B[39;49m\u001B[38;5;124;43mtags\u001B[39;49m\u001B[38;5;124;43m\"\u001B[39;49m\u001B[43m,\u001B[49m\u001B[43m \u001B[49m\u001B[43mvalues\u001B[49m\u001B[38;5;241;43m=\u001B[39;49m\u001B[38;5;124;43m\"\u001B[39;49m\u001B[38;5;124;43mtest/solved_majority_pass2\u001B[39;49m\u001B[38;5;124;43m\"\u001B[39;49m\u001B[43m)\u001B[49m\n",
      "File \u001B[0;32m~/miniconda3/envs/local-env/lib/python3.11/site-packages/pandas/core/frame.py:9339\u001B[0m, in \u001B[0;36mDataFrame.pivot\u001B[0;34m(self, columns, index, values)\u001B[0m\n\u001B[1;32m   9332\u001B[0m \u001B[38;5;129m@Substitution\u001B[39m(\u001B[38;5;124m\"\u001B[39m\u001B[38;5;124m\"\u001B[39m)\n\u001B[1;32m   9333\u001B[0m \u001B[38;5;129m@Appender\u001B[39m(_shared_docs[\u001B[38;5;124m\"\u001B[39m\u001B[38;5;124mpivot\u001B[39m\u001B[38;5;124m\"\u001B[39m])\n\u001B[1;32m   9334\u001B[0m \u001B[38;5;28;01mdef\u001B[39;00m\u001B[38;5;250m \u001B[39m\u001B[38;5;21mpivot\u001B[39m(\n\u001B[1;32m   9335\u001B[0m     \u001B[38;5;28mself\u001B[39m, \u001B[38;5;241m*\u001B[39m, columns, index\u001B[38;5;241m=\u001B[39mlib\u001B[38;5;241m.\u001B[39mno_default, values\u001B[38;5;241m=\u001B[39mlib\u001B[38;5;241m.\u001B[39mno_default\n\u001B[1;32m   9336\u001B[0m ) \u001B[38;5;241m-\u001B[39m\u001B[38;5;241m>\u001B[39m DataFrame:\n\u001B[1;32m   9337\u001B[0m     \u001B[38;5;28;01mfrom\u001B[39;00m\u001B[38;5;250m \u001B[39m\u001B[38;5;21;01mpandas\u001B[39;00m\u001B[38;5;21;01m.\u001B[39;00m\u001B[38;5;21;01mcore\u001B[39;00m\u001B[38;5;21;01m.\u001B[39;00m\u001B[38;5;21;01mreshape\u001B[39;00m\u001B[38;5;21;01m.\u001B[39;00m\u001B[38;5;21;01mpivot\u001B[39;00m\u001B[38;5;250m \u001B[39m\u001B[38;5;28;01mimport\u001B[39;00m pivot\n\u001B[0;32m-> 9339\u001B[0m     \u001B[38;5;28;01mreturn\u001B[39;00m \u001B[43mpivot\u001B[49m\u001B[43m(\u001B[49m\u001B[38;5;28;43mself\u001B[39;49m\u001B[43m,\u001B[49m\u001B[43m \u001B[49m\u001B[43mindex\u001B[49m\u001B[38;5;241;43m=\u001B[39;49m\u001B[43mindex\u001B[49m\u001B[43m,\u001B[49m\u001B[43m \u001B[49m\u001B[43mcolumns\u001B[49m\u001B[38;5;241;43m=\u001B[39;49m\u001B[43mcolumns\u001B[49m\u001B[43m,\u001B[49m\u001B[43m \u001B[49m\u001B[43mvalues\u001B[49m\u001B[38;5;241;43m=\u001B[39;49m\u001B[43mvalues\u001B[49m\u001B[43m)\u001B[49m\n",
      "File \u001B[0;32m~/miniconda3/envs/local-env/lib/python3.11/site-packages/pandas/core/reshape/pivot.py:570\u001B[0m, in \u001B[0;36mpivot\u001B[0;34m(data, columns, index, values)\u001B[0m\n\u001B[1;32m    566\u001B[0m         indexed \u001B[38;5;241m=\u001B[39m data\u001B[38;5;241m.\u001B[39m_constructor_sliced(data[values]\u001B[38;5;241m.\u001B[39m_values, index\u001B[38;5;241m=\u001B[39mmultiindex)\n\u001B[1;32m    567\u001B[0m \u001B[38;5;66;03m# error: Argument 1 to \"unstack\" of \"DataFrame\" has incompatible type \"Union\u001B[39;00m\n\u001B[1;32m    568\u001B[0m \u001B[38;5;66;03m# [List[Any], ExtensionArray, ndarray[Any, Any], Index, Series]\"; expected\u001B[39;00m\n\u001B[1;32m    569\u001B[0m \u001B[38;5;66;03m# \"Hashable\"\u001B[39;00m\n\u001B[0;32m--> 570\u001B[0m result \u001B[38;5;241m=\u001B[39m \u001B[43mindexed\u001B[49m\u001B[38;5;241;43m.\u001B[39;49m\u001B[43munstack\u001B[49m\u001B[43m(\u001B[49m\u001B[43mcolumns_listlike\u001B[49m\u001B[43m)\u001B[49m  \u001B[38;5;66;03m# type: ignore[arg-type]\u001B[39;00m\n\u001B[1;32m    571\u001B[0m result\u001B[38;5;241m.\u001B[39mindex\u001B[38;5;241m.\u001B[39mnames \u001B[38;5;241m=\u001B[39m [\n\u001B[1;32m    572\u001B[0m     name \u001B[38;5;28;01mif\u001B[39;00m name \u001B[38;5;129;01mis\u001B[39;00m \u001B[38;5;129;01mnot\u001B[39;00m lib\u001B[38;5;241m.\u001B[39mno_default \u001B[38;5;28;01melse\u001B[39;00m \u001B[38;5;28;01mNone\u001B[39;00m \u001B[38;5;28;01mfor\u001B[39;00m name \u001B[38;5;129;01min\u001B[39;00m result\u001B[38;5;241m.\u001B[39mindex\u001B[38;5;241m.\u001B[39mnames\n\u001B[1;32m    573\u001B[0m ]\n\u001B[1;32m    575\u001B[0m \u001B[38;5;28;01mreturn\u001B[39;00m result\n",
      "File \u001B[0;32m~/miniconda3/envs/local-env/lib/python3.11/site-packages/pandas/core/series.py:4615\u001B[0m, in \u001B[0;36mSeries.unstack\u001B[0;34m(self, level, fill_value, sort)\u001B[0m\n\u001B[1;32m   4570\u001B[0m \u001B[38;5;250m\u001B[39m\u001B[38;5;124;03m\"\"\"\u001B[39;00m\n\u001B[1;32m   4571\u001B[0m \u001B[38;5;124;03mUnstack, also known as pivot, Series with MultiIndex to produce DataFrame.\u001B[39;00m\n\u001B[1;32m   4572\u001B[0m \n\u001B[0;32m   (...)\u001B[0m\n\u001B[1;32m   4611\u001B[0m \u001B[38;5;124;03mb    2    4\u001B[39;00m\n\u001B[1;32m   4612\u001B[0m \u001B[38;5;124;03m\"\"\"\u001B[39;00m\n\u001B[1;32m   4613\u001B[0m \u001B[38;5;28;01mfrom\u001B[39;00m\u001B[38;5;250m \u001B[39m\u001B[38;5;21;01mpandas\u001B[39;00m\u001B[38;5;21;01m.\u001B[39;00m\u001B[38;5;21;01mcore\u001B[39;00m\u001B[38;5;21;01m.\u001B[39;00m\u001B[38;5;21;01mreshape\u001B[39;00m\u001B[38;5;21;01m.\u001B[39;00m\u001B[38;5;21;01mreshape\u001B[39;00m\u001B[38;5;250m \u001B[39m\u001B[38;5;28;01mimport\u001B[39;00m unstack\n\u001B[0;32m-> 4615\u001B[0m \u001B[38;5;28;01mreturn\u001B[39;00m \u001B[43munstack\u001B[49m\u001B[43m(\u001B[49m\u001B[38;5;28;43mself\u001B[39;49m\u001B[43m,\u001B[49m\u001B[43m \u001B[49m\u001B[43mlevel\u001B[49m\u001B[43m,\u001B[49m\u001B[43m \u001B[49m\u001B[43mfill_value\u001B[49m\u001B[43m,\u001B[49m\u001B[43m \u001B[49m\u001B[43msort\u001B[49m\u001B[43m)\u001B[49m\n",
      "File \u001B[0;32m~/miniconda3/envs/local-env/lib/python3.11/site-packages/pandas/core/reshape/reshape.py:517\u001B[0m, in \u001B[0;36munstack\u001B[0;34m(obj, level, fill_value, sort)\u001B[0m\n\u001B[1;32m    515\u001B[0m \u001B[38;5;28;01mif\u001B[39;00m is_1d_only_ea_dtype(obj\u001B[38;5;241m.\u001B[39mdtype):\n\u001B[1;32m    516\u001B[0m     \u001B[38;5;28;01mreturn\u001B[39;00m _unstack_extension_series(obj, level, fill_value, sort\u001B[38;5;241m=\u001B[39msort)\n\u001B[0;32m--> 517\u001B[0m unstacker \u001B[38;5;241m=\u001B[39m \u001B[43m_Unstacker\u001B[49m\u001B[43m(\u001B[49m\n\u001B[1;32m    518\u001B[0m \u001B[43m    \u001B[49m\u001B[43mobj\u001B[49m\u001B[38;5;241;43m.\u001B[39;49m\u001B[43mindex\u001B[49m\u001B[43m,\u001B[49m\u001B[43m \u001B[49m\u001B[43mlevel\u001B[49m\u001B[38;5;241;43m=\u001B[39;49m\u001B[43mlevel\u001B[49m\u001B[43m,\u001B[49m\u001B[43m \u001B[49m\u001B[43mconstructor\u001B[49m\u001B[38;5;241;43m=\u001B[39;49m\u001B[43mobj\u001B[49m\u001B[38;5;241;43m.\u001B[39;49m\u001B[43m_constructor_expanddim\u001B[49m\u001B[43m,\u001B[49m\u001B[43m \u001B[49m\u001B[43msort\u001B[49m\u001B[38;5;241;43m=\u001B[39;49m\u001B[43msort\u001B[49m\n\u001B[1;32m    519\u001B[0m \u001B[43m\u001B[49m\u001B[43m)\u001B[49m\n\u001B[1;32m    520\u001B[0m \u001B[38;5;28;01mreturn\u001B[39;00m unstacker\u001B[38;5;241m.\u001B[39mget_result(\n\u001B[1;32m    521\u001B[0m     obj\u001B[38;5;241m.\u001B[39m_values, value_columns\u001B[38;5;241m=\u001B[39m\u001B[38;5;28;01mNone\u001B[39;00m, fill_value\u001B[38;5;241m=\u001B[39mfill_value\n\u001B[1;32m    522\u001B[0m )\n",
      "File \u001B[0;32m~/miniconda3/envs/local-env/lib/python3.11/site-packages/pandas/core/reshape/reshape.py:154\u001B[0m, in \u001B[0;36m_Unstacker.__init__\u001B[0;34m(self, index, level, constructor, sort)\u001B[0m\n\u001B[1;32m    146\u001B[0m \u001B[38;5;28;01mif\u001B[39;00m num_cells \u001B[38;5;241m>\u001B[39m np\u001B[38;5;241m.\u001B[39miinfo(np\u001B[38;5;241m.\u001B[39mint32)\u001B[38;5;241m.\u001B[39mmax:\n\u001B[1;32m    147\u001B[0m     warnings\u001B[38;5;241m.\u001B[39mwarn(\n\u001B[1;32m    148\u001B[0m         \u001B[38;5;124mf\u001B[39m\u001B[38;5;124m\"\u001B[39m\u001B[38;5;124mThe following operation may generate \u001B[39m\u001B[38;5;132;01m{\u001B[39;00mnum_cells\u001B[38;5;132;01m}\u001B[39;00m\u001B[38;5;124m cells \u001B[39m\u001B[38;5;124m\"\u001B[39m\n\u001B[1;32m    149\u001B[0m         \u001B[38;5;124mf\u001B[39m\u001B[38;5;124m\"\u001B[39m\u001B[38;5;124min the resulting pandas object.\u001B[39m\u001B[38;5;124m\"\u001B[39m,\n\u001B[1;32m    150\u001B[0m         PerformanceWarning,\n\u001B[1;32m    151\u001B[0m         stacklevel\u001B[38;5;241m=\u001B[39mfind_stack_level(),\n\u001B[1;32m    152\u001B[0m     )\n\u001B[0;32m--> 154\u001B[0m \u001B[38;5;28;43mself\u001B[39;49m\u001B[38;5;241;43m.\u001B[39;49m\u001B[43m_make_selectors\u001B[49m\u001B[43m(\u001B[49m\u001B[43m)\u001B[49m\n",
      "File \u001B[0;32m~/miniconda3/envs/local-env/lib/python3.11/site-packages/pandas/core/reshape/reshape.py:210\u001B[0m, in \u001B[0;36m_Unstacker._make_selectors\u001B[0;34m(self)\u001B[0m\n\u001B[1;32m    207\u001B[0m mask\u001B[38;5;241m.\u001B[39mput(selector, \u001B[38;5;28;01mTrue\u001B[39;00m)\n\u001B[1;32m    209\u001B[0m \u001B[38;5;28;01mif\u001B[39;00m mask\u001B[38;5;241m.\u001B[39msum() \u001B[38;5;241m<\u001B[39m \u001B[38;5;28mlen\u001B[39m(\u001B[38;5;28mself\u001B[39m\u001B[38;5;241m.\u001B[39mindex):\n\u001B[0;32m--> 210\u001B[0m     \u001B[38;5;28;01mraise\u001B[39;00m \u001B[38;5;167;01mValueError\u001B[39;00m(\u001B[38;5;124m\"\u001B[39m\u001B[38;5;124mIndex contains duplicate entries, cannot reshape\u001B[39m\u001B[38;5;124m\"\u001B[39m)\n\u001B[1;32m    212\u001B[0m \u001B[38;5;28mself\u001B[39m\u001B[38;5;241m.\u001B[39mgroup_index \u001B[38;5;241m=\u001B[39m comp_index\n\u001B[1;32m    213\u001B[0m \u001B[38;5;28mself\u001B[39m\u001B[38;5;241m.\u001B[39mmask \u001B[38;5;241m=\u001B[39m mask\n",
      "\u001B[0;31mValueError\u001B[0m: Index contains duplicate entries, cannot reshape"
     ]
    }
   ],
   "execution_count": 45
  },
  {
   "metadata": {
    "ExecuteTime": {
     "end_time": "2025-04-01T06:46:15.791934Z",
     "start_time": "2025-04-01T06:46:15.777627Z"
    }
   },
   "cell_type": "code",
   "source": [
    "solved_by_grpo = set(list(pivot[pivot[\"grpo,oracle\"] == 1].index))\n",
    "\n",
    "# Create per method solved_by lists\n",
    "solved_by_grpo_oracle = set(list(pivot[pivot[\"grpo,oracle\"] == 1].index))\n",
    "solved_by_grpo_online = set(list(pivot[pivot[\"grpo,online\"] == 1].index))\n",
    "solved_by_grpo_beta0_oracle = set(list(pivot[pivot[\"beta0,grpo,oracle\"] == 1].index))\n",
    "solved_by_grpo_ns_best_oracle = set(list(pivot[pivot[\"grpo,ns-best,oracle\"] == 1].index))\n",
    "solved_by_grpo_ns_mix_oracle = set(list(pivot[pivot[\"grpo,ns-mix,oracle\"] == 1].index))\n",
    "# solved_by_no_train = set(list(pivot[pivot[\"no_train\"] == 1].index))"
   ],
   "id": "5a5fa53a30fbf0ae",
   "outputs": [],
   "execution_count": 86
  },
  {
   "metadata": {
    "ExecuteTime": {
     "end_time": "2025-04-01T04:19:19.106551Z",
     "start_time": "2025-04-01T04:19:19.098102Z"
    }
   },
   "cell_type": "code",
   "source": "unsolved_by_grpo = set(list(pivot[pivot[\"grpo,oracle\"] != 1].index))",
   "id": "a5a3f45e8051b0a8",
   "outputs": [],
   "execution_count": 65
  },
  {
   "metadata": {
    "ExecuteTime": {
     "end_time": "2025-04-01T04:20:14.588706Z",
     "start_time": "2025-04-01T04:20:14.579971Z"
    }
   },
   "cell_type": "code",
   "source": "solved_by_ttt = set(['0c786b71', '0c9aba6e', '195ba7dc', '2072aba6', '31d5ba1a', '34b99a2b', '3b4c2228', '3d31c5b3', '4852f2fa', '506d28a5', '5783df64', '59341089', '5d2a5c43', '60c09cac', '62b74c02', '66e6c45b', '66f2d22f', '68b67ca3', '6a11f6da', '6ea4a07e', '8597cfd7', '9110e3c5', 'aa18de87', 'af24b4cc', 'b1fc8b8e', 'bbb1b8b6', 'c8b7cc0f', 'ca8de6ea', 'd19f7514', 'e133d23d', 'e345f17b', 'e633a9e5', 'e99362f0', 'fc754716'])",
   "id": "4c2870882e5e825a",
   "outputs": [],
   "execution_count": 68
  },
  {
   "metadata": {
    "ExecuteTime": {
     "end_time": "2025-04-01T04:21:14.413483Z",
     "start_time": "2025-04-01T04:21:14.407286Z"
    }
   },
   "cell_type": "code",
   "source": "tasks_solved_by_ttt_not_grpo = list(solved_by_ttt - solved_by_grpo)",
   "id": "22aecf07faa7b3b",
   "outputs": [],
   "execution_count": 72
  },
  {
   "metadata": {
    "ExecuteTime": {
     "end_time": "2025-04-01T04:27:36.592790Z",
     "start_time": "2025-04-01T04:27:36.561870Z"
    }
   },
   "cell_type": "code",
   "source": "res_df[(res_df[\"tags\"] == \"grpo,oracle\") & (res_df[\"target\"].isin(tasks_solved_by_ttt_not_grpo))]",
   "id": "f39c2d388b4ec4dd",
   "outputs": [
    {
     "data": {
      "text/plain": [
       "            tags    target     _runtime  test/solved_majority  \\\n",
       "42   grpo,oracle  2072aba6   243.812134                     0   \n",
       "102  grpo,oracle  3d31c5b3  1052.738480                     0   \n",
       "177  grpo,oracle  5783df64    98.976040                     0   \n",
       "229  grpo,oracle  66f2d22f   114.690868                     0   \n",
       "266  grpo,oracle  6ea4a07e    22.556007                     0   \n",
       "300  grpo,oracle  8597cfd7   731.800150                     0   \n",
       "338  grpo,oracle  b1fc8b8e    60.910259                     0   \n",
       "349  grpo,oracle  d19f7514    26.587550                     0   \n",
       "358  grpo,oracle  e99362f0   735.211919                     0   \n",
       "\n",
       "     test/solved_majority_pass2  test/solved_oracle  test/best_score  \\\n",
       "42                            0                   1         1.000000   \n",
       "102                           0                   0         0.944444   \n",
       "177                           0                   0         0.555556   \n",
       "229                           0                   0         0.964286   \n",
       "266                           0                   1         1.000000   \n",
       "300                           0                   0         0.000000   \n",
       "338                           0                   0         0.840000   \n",
       "349                           0                   0         0.958333   \n",
       "358                           0                   0         0.900000   \n",
       "\n",
       "     validation/majority_reward  validation/majority_count  \\\n",
       "42                     0.000000                          1   \n",
       "102                    0.777778                         40   \n",
       "177                    1.000000                          3   \n",
       "229                    1.000000                         10   \n",
       "266                    1.000000                         43   \n",
       "300                    0.000000                         15   \n",
       "338                    1.000000                         20   \n",
       "349                    1.000000                         15   \n",
       "358                    1.000000                         55   \n",
       "\n",
       "     train/reward_minus_replacement_mean  train/reward_minus_replacement_max  \n",
       "42                              0.398148                            1.000000  \n",
       "102                             1.000000                            1.000000  \n",
       "177                             1.000000                            1.000000  \n",
       "229                             0.833333                            0.928571  \n",
       "266                             0.419753                            1.000000  \n",
       "300                             1.000000                            1.000000  \n",
       "338                             0.404444                            0.720000  \n",
       "349                             0.976852                            1.000000  \n",
       "358                             1.000000                            1.000000  "
      ],
      "text/html": [
       "<div>\n",
       "<style scoped>\n",
       "    .dataframe tbody tr th:only-of-type {\n",
       "        vertical-align: middle;\n",
       "    }\n",
       "\n",
       "    .dataframe tbody tr th {\n",
       "        vertical-align: top;\n",
       "    }\n",
       "\n",
       "    .dataframe thead th {\n",
       "        text-align: right;\n",
       "    }\n",
       "</style>\n",
       "<table border=\"1\" class=\"dataframe\">\n",
       "  <thead>\n",
       "    <tr style=\"text-align: right;\">\n",
       "      <th></th>\n",
       "      <th>tags</th>\n",
       "      <th>target</th>\n",
       "      <th>_runtime</th>\n",
       "      <th>test/solved_majority</th>\n",
       "      <th>test/solved_majority_pass2</th>\n",
       "      <th>test/solved_oracle</th>\n",
       "      <th>test/best_score</th>\n",
       "      <th>validation/majority_reward</th>\n",
       "      <th>validation/majority_count</th>\n",
       "      <th>train/reward_minus_replacement_mean</th>\n",
       "      <th>train/reward_minus_replacement_max</th>\n",
       "    </tr>\n",
       "  </thead>\n",
       "  <tbody>\n",
       "    <tr>\n",
       "      <th>42</th>\n",
       "      <td>grpo,oracle</td>\n",
       "      <td>2072aba6</td>\n",
       "      <td>243.812134</td>\n",
       "      <td>0</td>\n",
       "      <td>0</td>\n",
       "      <td>1</td>\n",
       "      <td>1.000000</td>\n",
       "      <td>0.000000</td>\n",
       "      <td>1</td>\n",
       "      <td>0.398148</td>\n",
       "      <td>1.000000</td>\n",
       "    </tr>\n",
       "    <tr>\n",
       "      <th>102</th>\n",
       "      <td>grpo,oracle</td>\n",
       "      <td>3d31c5b3</td>\n",
       "      <td>1052.738480</td>\n",
       "      <td>0</td>\n",
       "      <td>0</td>\n",
       "      <td>0</td>\n",
       "      <td>0.944444</td>\n",
       "      <td>0.777778</td>\n",
       "      <td>40</td>\n",
       "      <td>1.000000</td>\n",
       "      <td>1.000000</td>\n",
       "    </tr>\n",
       "    <tr>\n",
       "      <th>177</th>\n",
       "      <td>grpo,oracle</td>\n",
       "      <td>5783df64</td>\n",
       "      <td>98.976040</td>\n",
       "      <td>0</td>\n",
       "      <td>0</td>\n",
       "      <td>0</td>\n",
       "      <td>0.555556</td>\n",
       "      <td>1.000000</td>\n",
       "      <td>3</td>\n",
       "      <td>1.000000</td>\n",
       "      <td>1.000000</td>\n",
       "    </tr>\n",
       "    <tr>\n",
       "      <th>229</th>\n",
       "      <td>grpo,oracle</td>\n",
       "      <td>66f2d22f</td>\n",
       "      <td>114.690868</td>\n",
       "      <td>0</td>\n",
       "      <td>0</td>\n",
       "      <td>0</td>\n",
       "      <td>0.964286</td>\n",
       "      <td>1.000000</td>\n",
       "      <td>10</td>\n",
       "      <td>0.833333</td>\n",
       "      <td>0.928571</td>\n",
       "    </tr>\n",
       "    <tr>\n",
       "      <th>266</th>\n",
       "      <td>grpo,oracle</td>\n",
       "      <td>6ea4a07e</td>\n",
       "      <td>22.556007</td>\n",
       "      <td>0</td>\n",
       "      <td>0</td>\n",
       "      <td>1</td>\n",
       "      <td>1.000000</td>\n",
       "      <td>1.000000</td>\n",
       "      <td>43</td>\n",
       "      <td>0.419753</td>\n",
       "      <td>1.000000</td>\n",
       "    </tr>\n",
       "    <tr>\n",
       "      <th>300</th>\n",
       "      <td>grpo,oracle</td>\n",
       "      <td>8597cfd7</td>\n",
       "      <td>731.800150</td>\n",
       "      <td>0</td>\n",
       "      <td>0</td>\n",
       "      <td>0</td>\n",
       "      <td>0.000000</td>\n",
       "      <td>0.000000</td>\n",
       "      <td>15</td>\n",
       "      <td>1.000000</td>\n",
       "      <td>1.000000</td>\n",
       "    </tr>\n",
       "    <tr>\n",
       "      <th>338</th>\n",
       "      <td>grpo,oracle</td>\n",
       "      <td>b1fc8b8e</td>\n",
       "      <td>60.910259</td>\n",
       "      <td>0</td>\n",
       "      <td>0</td>\n",
       "      <td>0</td>\n",
       "      <td>0.840000</td>\n",
       "      <td>1.000000</td>\n",
       "      <td>20</td>\n",
       "      <td>0.404444</td>\n",
       "      <td>0.720000</td>\n",
       "    </tr>\n",
       "    <tr>\n",
       "      <th>349</th>\n",
       "      <td>grpo,oracle</td>\n",
       "      <td>d19f7514</td>\n",
       "      <td>26.587550</td>\n",
       "      <td>0</td>\n",
       "      <td>0</td>\n",
       "      <td>0</td>\n",
       "      <td>0.958333</td>\n",
       "      <td>1.000000</td>\n",
       "      <td>15</td>\n",
       "      <td>0.976852</td>\n",
       "      <td>1.000000</td>\n",
       "    </tr>\n",
       "    <tr>\n",
       "      <th>358</th>\n",
       "      <td>grpo,oracle</td>\n",
       "      <td>e99362f0</td>\n",
       "      <td>735.211919</td>\n",
       "      <td>0</td>\n",
       "      <td>0</td>\n",
       "      <td>0</td>\n",
       "      <td>0.900000</td>\n",
       "      <td>1.000000</td>\n",
       "      <td>55</td>\n",
       "      <td>1.000000</td>\n",
       "      <td>1.000000</td>\n",
       "    </tr>\n",
       "  </tbody>\n",
       "</table>\n",
       "</div>"
      ]
     },
     "execution_count": 82,
     "metadata": {},
     "output_type": "execute_result"
    }
   ],
   "execution_count": 82
  },
  {
   "metadata": {
    "ExecuteTime": {
     "end_time": "2025-04-01T04:26:26.306068Z",
     "start_time": "2025-04-01T04:26:26.296132Z"
    }
   },
   "cell_type": "code",
   "source": "solved_by_grpo - solved_by_ttt",
   "id": "f12f0cc2b3532a38",
   "outputs": [
    {
     "data": {
      "text/plain": [
       "{'00576224', '281123b4', '4cd1b7b2', '7953d61e'}"
      ]
     },
     "execution_count": 78,
     "metadata": {},
     "output_type": "execute_result"
    }
   ],
   "execution_count": 78
  },
  {
   "metadata": {
    "ExecuteTime": {
     "end_time": "2025-04-01T07:40:04.646981Z",
     "start_time": "2025-04-01T07:40:04.628246Z"
    }
   },
   "cell_type": "code",
   "source": "ttt_target_pass1_pass2_scores = [('00576224', 0.6666666666666667, 0.6666666666666667), ('0c786b71', 1.0, 1.0), ('0c9aba6e', 1.0, 1.0), ('17cae0c1', 0.33333333333333337, 0.5555555555555556), ('195ba7dc', 1.0, 1.0), ('2072aba6', 1.0, 1.0), ('27a77e38', 0.9753086419753086, 0.9753086419753086), ('31d5ba1a', 1.0, 1.0), ('32e9702f', 0.98, 0.97), ('34b99a2b', 1.0, 1.0), ('3b4c2228', 1.0, 0.8888888888888888), ('3d31c5b3', 1.0, 0.9444444444444444), ('48131b3c', 0.875, 0.875), ('4852f2fa', 1.0, 1.0), ('4cd1b7b2', 0.875, 0.8125), ('506d28a5', 1.0, 1.0), ('5783df64', 1.0, 1.0), ('59341089', 1.0, 1.0), ('5d2a5c43', 1.0, 1.0), ('60c09cac', 1.0, 1.0), ('626c0bcc', 0.9387755102040817, 0.7551020408163265), ('62b74c02', 1.0, 1.0), ('66e6c45b', 1.0, 1.0), ('66f2d22f', 1.0, 1.0), ('68b67ca3', 1.0, 1.0), ('6a11f6da', 1.0, 1.0), ('6ad5bdfd', 0.55, 0.5900000000000001), ('6ea4a07e', 1.0, 1.0), ('833dafe3', 0.625, 0.671875), ('8597cfd7', 0.0, 1.0), ('8ba14f53', 0.7777777777777778, 0.8888888888888888), ('9110e3c5', 1.0, 1.0), ('a8610ef7', 0.7222222222222222, 0.6944444444444444), ('aa18de87', 1.0, 1.0), ('af24b4cc', 1.0, 1.0), ('b0722778', 0.625, 0.6875), ('b1fc8b8e', 1.0, 1.0), ('bbb1b8b6', 1.0, 1.0), ('be03b35f', 0.5, 0.5), ('c074846d', 0.9382716049382716, 0.9753086419753086), ('c8b7cc0f', 1.0, 0.8888888888888888), ('ca8de6ea', 1.0, 1.0), ('d017b73f', 0.6666666666666667, 0.7083333333333333), ('d19f7514', 1.0, 0.875), ('e133d23d', 1.0, 1.0), ('e345f17b', 1.0, 1.0), ('e633a9e5', 1.0, 1.0), ('e6de6e8f', 0.7678571428571428, 0.8571428571428572), ('e99362f0', 0.9, 1.0), ('ed74f2f2', 0.2222222222222222, 0.2222222222222222), ('ed98d772', 0.4444444444444444, 0.7222222222222222), ('fc754716', 1.0, 1.0)]",
   "id": "42fcde08a5490a9",
   "outputs": [],
   "execution_count": 107
  },
  {
   "metadata": {
    "ExecuteTime": {
     "end_time": "2025-04-01T04:26:31.030907Z",
     "start_time": "2025-04-01T04:26:31.020053Z"
    }
   },
   "cell_type": "code",
   "source": "[t for t in ttt_target_pass1_pass2_scores if t[0] in solved_by_grpo - solved_by_ttt]",
   "id": "326800bc1124fd99",
   "outputs": [
    {
     "data": {
      "text/plain": [
       "[('00576224', 0.6666666666666667, 0.6666666666666667),\n",
       " ('4cd1b7b2', 0.875, 0.8125)]"
      ]
     },
     "execution_count": 79,
     "metadata": {},
     "output_type": "execute_result"
    }
   ],
   "execution_count": 79
  },
  {
   "metadata": {
    "ExecuteTime": {
     "end_time": "2025-04-01T04:26:40.530729Z",
     "start_time": "2025-04-01T04:26:40.521580Z"
    }
   },
   "cell_type": "code",
   "source": "solved_by_ttt - solved_by_grpo",
   "id": "9e596444db216f27",
   "outputs": [
    {
     "data": {
      "text/plain": [
       "52"
      ]
     },
     "execution_count": 80,
     "metadata": {},
     "output_type": "execute_result"
    }
   ],
   "execution_count": 80
  },
  {
   "metadata": {
    "ExecuteTime": {
     "end_time": "2025-04-01T06:58:38.101032Z",
     "start_time": "2025-04-01T06:58:38.091516Z"
    }
   },
   "cell_type": "code",
   "source": "\",\".join(solved_by_ttt - solved_by_grpo)",
   "id": "e154b13f808d79b2",
   "outputs": [
    {
     "data": {
      "text/plain": [
       "'d19f7514,5783df64,3d31c5b3,e99362f0,66f2d22f,b1fc8b8e,8597cfd7,2072aba6,6ea4a07e'"
      ]
     },
     "execution_count": 91,
     "metadata": {},
     "output_type": "execute_result"
    }
   ],
   "execution_count": 91
  },
  {
   "metadata": {
    "ExecuteTime": {
     "end_time": "2025-04-01T07:20:44.008587Z",
     "start_time": "2025-04-01T07:20:43.998578Z"
    }
   },
   "cell_type": "code",
   "source": "solved_by_grpo - solved_by_ttt",
   "id": "9bd8a9520651a3b1",
   "outputs": [
    {
     "data": {
      "text/plain": [
       "{'00576224', '281123b4', '4cd1b7b2', '7953d61e'}"
      ]
     },
     "execution_count": 92,
     "metadata": {},
     "output_type": "execute_result"
    }
   ],
   "execution_count": 92
  },
  {
   "metadata": {
    "ExecuteTime": {
     "end_time": "2025-04-01T07:26:50.340469Z",
     "start_time": "2025-04-01T07:26:50.330466Z"
    }
   },
   "cell_type": "code",
   "source": "\",\".join(set(all_targets) - (solved_by_ttt - solved_by_grpo))",
   "id": "a1635d7373d8d3ba",
   "outputs": [
    {
     "data": {
      "text/plain": [
       "'0c9aba6e,ca8de6ea,00576224,60c09cac,281123b4,4cd1b7b2,5d2a5c43,0c786b71,17cae0c1,66e6c45b,bbb1b8b6,31d5ba1a,a8610ef7,fc754716,be03b35f,8ba14f53,32e9702f,6ad5bdfd,62b74c02,9110e3c5,e345f17b,3b4c2228,7953d61e,aa18de87,ed74f2f2,af24b4cc,e6de6e8f,6a11f6da,195ba7dc,68b67ca3,833dafe3,c8b7cc0f,59341089,34b99a2b,c074846d,e133d23d,48131b3c,b0722778,4852f2fa,ed98d772,d017b73f,e633a9e5,626c0bcc,27a77e38,506d28a5'"
      ]
     },
     "execution_count": 95,
     "metadata": {},
     "output_type": "execute_result"
    }
   ],
   "execution_count": 95
  },
  {
   "metadata": {
    "ExecuteTime": {
     "end_time": "2025-04-03T06:31:06.952132Z",
     "start_time": "2025-04-03T06:31:06.947874Z"
    }
   },
   "cell_type": "code",
   "source": "remaining_tasks = list(set(all_tasks.keys()) - set(small_tasks.keys()))",
   "id": "c8a193ac6df6fd18",
   "outputs": [],
   "execution_count": 90
  },
  {
   "metadata": {
    "ExecuteTime": {
     "end_time": "2025-04-03T06:32:06.814980Z",
     "start_time": "2025-04-03T06:32:06.807502Z"
    }
   },
   "cell_type": "code",
   "source": [
    "remaining_for_grpo_oracle = set(remaining_tasks) - set(res_df[res_df[\"tags\"] == \"full,grpo,supervised\"].target)\n",
    "remaining_for_sft_temp_sched = set(remaining_tasks) - set(res_df[res_df[\"tags\"] == \"full,sft,train_temp=sched\"].target)"
   ],
   "id": "bcc5f91226d222cc",
   "outputs": [],
   "execution_count": 93
  },
  {
   "metadata": {
    "ExecuteTime": {
     "end_time": "2025-04-03T06:32:09.481675Z",
     "start_time": "2025-04-03T06:32:09.478572Z"
    }
   },
   "cell_type": "code",
   "source": "len(set(remaining_tasks))",
   "id": "f05910d5bd9d6f41",
   "outputs": [
    {
     "data": {
      "text/plain": [
       "346"
      ]
     },
     "execution_count": 94,
     "metadata": {},
     "output_type": "execute_result"
    }
   ],
   "execution_count": 94
  },
  {
   "metadata": {
    "ExecuteTime": {
     "end_time": "2025-04-03T06:32:12.132898Z",
     "start_time": "2025-04-03T06:32:12.130442Z"
    }
   },
   "cell_type": "code",
   "source": "len(remaining_for_grpo_oracle)",
   "id": "1e4df5a6e0270a6",
   "outputs": [
    {
     "data": {
      "text/plain": [
       "207"
      ]
     },
     "execution_count": 95,
     "metadata": {},
     "output_type": "execute_result"
    }
   ],
   "execution_count": 95
  },
  {
   "metadata": {
    "ExecuteTime": {
     "end_time": "2025-04-03T06:32:12.987755Z",
     "start_time": "2025-04-03T06:32:12.984736Z"
    }
   },
   "cell_type": "code",
   "source": "len(remaining_for_sft_temp_sched)",
   "id": "3ab9c8dcf48cfe7d",
   "outputs": [
    {
     "data": {
      "text/plain": [
       "254"
      ]
     },
     "execution_count": 96,
     "metadata": {},
     "output_type": "execute_result"
    }
   ],
   "execution_count": 96
  },
  {
   "metadata": {
    "ExecuteTime": {
     "end_time": "2025-04-03T06:40:24.382676Z",
     "start_time": "2025-04-03T06:40:24.377435Z"
    }
   },
   "cell_type": "code",
   "source": [
    "cmds = []\n",
    "_method_remaining = {\n",
    "    \"grpo_oracle\": (\"arc_job_grpo_oracle\", remaining_for_grpo_oracle),\n",
    "    \"sft_temp_sched\": (\"arc_job_nll_temp_sched\", remaining_for_sft_temp_sched)\n",
    "}\n",
    "_current_method = _method_remaining[\"sft_temp_sched\"]\n",
    "for i in range(0, len(_current_method[1]), (batch_size:=51)):\n",
    "    cmd = f\"sbatch experiments/full/{_current_method[0]}.sh \\\"\" + \",\".join(list(_current_method[1])[i:i+batch_size]) + \"\\\"\"\n",
    "    cmds.append(cmd)\n",
    "print(\"; \".join(cmds))"
   ],
   "id": "9f93bf63b9efb716",
   "outputs": [
    {
     "name": "stdout",
     "output_type": "stream",
     "text": [
      "sbatch experiments/full/arc_job_nll_temp_sched.sh \"b20f7c8b,08573cc6,551d5bf1,16b78196,f5c89df1,ef26cbf6,14754a24,15113be4,9b365c51,1a2e2828,f4081712,770cc55f,84f2aca1,e0fb7511,9ddd00f0,817e6c09,c97c0139,2753e76c,cfb2ce5a,136b0064,e681b708,95a58926,e41c6fd3,13713586,05a7bcf2,9356391f,54db823b,af22c60d,12eac192,73c3b0d8,29700607,696d4842,a406ac07,45737921,fafd9572,4364c1c4,ac3e2b04,8b28cd80,8cb8642d,3391f8c0,8a371977,477d2879,1990f7a8,639f5a19,bf32578f,992798f6,d37a1ef5,5b526a93,981571dc,b7fb29bc,642d658d\"; sbatch experiments/full/arc_job_nll_temp_sched.sh \"692cd3b6,3ed85e70,423a55dc,ac605cbb,baf41dbf,15663ba9,fe9372f3,45bbe264,1acc24af,5833af48,c64f1187,19bb5feb,ad7e01d0,de493100,62ab2642,c658a4bd,e9c9d9a1,5b6cbef5,516b51b7,963f59bc,1da012fc,4b6b68e5,2b01abd0,1a6449f1,5ffb2104,15696249,92e50de0,dd2401ed,b9630600,1c0d0a4b,1c02dbbe,456873bc,2037f2c7,12422b43,ba9d41b8,7039b2d7,070dd51e,e7639916,d931c21c,ccd554ac,aab50785,4ff4c9da,358ba94e,25094a63,bb52a14b,b4a43f3b,137f0df0,d4b1c2b1,a57f2f04,b942fd60,88207623\"; sbatch experiments/full/arc_job_nll_temp_sched.sh \"505fff84,ac2e8ecf,55783887,d47aa2ff,2685904e,903d1b4a,0934a4d8,27f8ce4f,f9d67f8b,dc2e9a9d,fea12743,7ee1c6ea,e66aafb8,c87289bb,929ab4e9,31adaf00,0becf7df,50a16a69,642248e4,3a301edc,009d5c81,0bb8deee,c35c1b4c,4f537728,85fa5666,e88171ec,69889d6e,2f0c5170,f3b10344,96a8c0cd,7bb29440,575b1a71,79fb03f4,c1990cce,50f325b5,1e97544e,a59b95c0,2c0b0aff,94be5b80,2c737e39,40f6cd08,cb227835,1e81d6f9,ea959feb,f3e62deb,1d398264,c92b942c,9caba7c3,891232d6,e1d2900e,ff72ca3e\"; sbatch experiments/full/arc_job_nll_temp_sched.sh \"319f2597,7d1f7ee8,1d0a4b61,33b52de3,ca8f78db,b457fec5,22a4bbc2,9bebae7a,845d6e51,aa300dc3,d304284e,03560426,7c9b52a0,7e02026e,292dd178,8e2edd66,3979b1a8,bd14c3bf,0b17323b,9772c176,ecaa0ec1,e21a174a,b7999b51,e2092e0c,f21745ec,b7cb93ac,140c817e,9b2a60aa,18419cfa,f45f5ca7,c663677b,e7b06bea,5a5a2103,42918530,e69241bd,351d6448,e78887d1,90347967,da515329,f3cdc58f,67b4a34d,e57337a4,aa4ec2a5,7c8af763,0692e18c,0e671a1a,4e45f183,5af49b42,256b0a75,4acc7107,c48954c1\"; sbatch experiments/full/arc_job_nll_temp_sched.sh \"b7f8a4d8,cad67732,1c56ad9f,20981f0e,0a2355a6,f9a67cb5,2697da3f,e619ca6e,a3f84088,9b4c17c4,9f27f097,72a961c9,67c52801,93c31fbe,f823c43c,d492a647,d4c90558,212895b5,4c177718,60a26a3e,103eff5b,a680ac02,705a3229,310f3251,a096bf4d,d2acf2cb,ea9794b1,e9b4f6fc,414297c0,97239e3d,e7dd8335,712bf12e,8ee62060,0607ce86,a934301b,bcb3040b,df8cc377,5207a7b5,52fd389e,f8be4b64,9def23fe,762cd429,e4075551,bc4146bd,a04b2602,3f23242b,50aad11f,20818e16,e9ac8c9e,73ccf9c2\"\n"
     ]
    }
   ],
   "execution_count": 101
  },
  {
   "metadata": {
    "ExecuteTime": {
     "end_time": "2025-04-01T15:21:26.572332Z",
     "start_time": "2025-04-01T15:21:26.565552Z"
    }
   },
   "cell_type": "code",
   "source": [
    "_input = [{\"role\": \"system\", \"content\": \"You are a world-class puzzle solver with exceptional pattern recognition skills and expertise in Python programming. Your task is to analyze puzzles and provide Python solutions.\"},\n",
    "{\"role\": \"user\", \"content\": \"Given input-output grid pairs as reference examples, carefully observe the patterns to predict the output grid for new test input. Each pair follows the same transformation rule. Grids are 2D arrays represented as strings, with cells (colors) separated by spaces and rows by newlines.\\nHere are the input and output grids for the reference examples:\\nExample 1\\nInput:\\nGray Black Black Gray Black\\nGray Black Black Gray Black\\nGray Black Gray Gray Gray\\nGray Gray Gray Black Black\\nBlack Black Gray Black Black\\nBlack Black Gray Gray Gray\\nBlack Black Black Gray Black\\nGray Gray Gray Gray Black\\nBlack Gray Black Black Black\\nBlack Gray Black Black Black\\nBlack Gray Gray Gray Black\\nBlack Black Black Gray Black\\nBlack Gray Gray Gray Gray\\nGray Gray Black Black Black\\nBlack Gray Black Black Black\\n\\nOutput:\\nGray Black Black Gray Black\\nGray Black Black Gray Black\\nGray Black Gray Gray Gray\\nGray Gray Gray Black Black\\nBlack Black Gray Black Black\\nBlack Black Gray Gray Gray\\nBlack Black Black Gray Purple\\nGray Gray Gray Gray Purple\\nBlack Gray Purple Purple Purple\\nBlack Gray Purple Purple Purple\\nBlack Gray Gray Gray Purple\\nBlack Black Black Gray Purple\\nBlack Gray Gray Gray Gray\\nGray Gray Black Black Black\\nOrange Gray Black Black Black\\n\\n\\nExample 2\\nInput:\\nBlack Black Gray Black Black Gray Black Black Black\\nBlack Black Gray Gray Gray Gray Black Black Black\\nGray Gray Gray Black Black Black Black Black Black\\nBlack Gray Black Black Black Black Black Black Black\\nBlack Gray Black Black Black Gray Gray Gray Gray\\nBlack Gray Gray Gray Gray Gray Black Black Black\\nGray Gray Black Black Black Gray Gray Gray Gray\\nBlack Black Black Black Black Gray Black Black Black\\nGray Gray Gray Gray Gray Gray Black Black Black\\nBlack Black Black Black Black Gray Black Black Black\\n\\nOutput:\\nBlack Black Gray Orange Orange Gray Purple Purple Purple\\nBlack Black Gray Gray Gray Gray Purple Purple Purple\\nGray Gray Gray Purple Purple Purple Purple Purple Purple\\nBlack Gray Purple Purple Purple Purple Purple Purple Purple\\nBlack Gray Purple Purple Purple Gray Gray Gray Gray\\nBlack Gray Gray Gray Gray Gray Black Black Black\\nGray Gray Black Black Black Gray Gray Gray Gray\\nBlack Black Black Black Black Gray Black Black Black\\nGray Gray Gray Gray Gray Gray Black Black Black\\nBlack Black Black Black Black Gray Black Black Black\\n\\n\\nExample 3\\nInput:\\nBlack Gray Black Black Gray Black Black Black Black Gray Black Black\\nBlack Gray Black Black Gray Gray Gray Black Black Gray Black Black\\nBlack Gray Gray Gray Gray Black Gray Black Black Gray Black Black\\nBlack Black Gray Black Black Black Gray Gray Gray Gray Black Black\\nGray Gray Gray Black Black Black Gray Black Black Gray Gray Gray\\nBlack Black Black Black Black Black Gray Black Black Black Black Black\\nBlack Black Black Gray Gray Gray Gray Black Black Black Black Black\\nGray Gray Gray Gray Black Black Gray Black Black Black Black Black\\nBlack Black Black Gray Black Black Gray Gray Gray Black Black Black\\nBlack Black Black Gray Black Black Black Black Gray Black Black Black\\n\\nOutput:\\nBlack Gray Orange Orange Gray Black Black Black Black Gray Black Black\\nBlack Gray Orange Orange Gray Gray Gray Black Black Gray Black Black\\nBlack Gray Gray Gray Gray Black Gray Black Black Gray Black Black\\nBlack Black Gray Black Black Black Gray Gray Gray Gray Black Black\\nGray Gray Gray Black Black Black Gray Purple Purple Gray Gray Gray\\nBlack Black Black Black Black Black Gray Purple Purple Purple Purple Purple\\nBlack Black Black Gray Gray Gray Gray Purple Purple Purple Purple Purple\\nGray Gray Gray Gray Black Black Gray Purple Purple Purple Purple Purple\\nBlack Black Black Gray Black Black Gray Gray Gray Purple Purple Purple\\nBlack Black Black Gray Black Black Black Black Gray Purple Purple Purple\\n\\n\\nHere is the input grid for the test example:\\nInput:\\nBlack Gray Black Black Black Black Black Gray Black Black Gray Black\\nBlack Gray Black Black Black Gray Gray Gray Black Gray Gray Black\\nGray Gray Gray Black Black Gray Black Gray Gray Gray Black Black\\nBlack Black Gray Gray Gray Gray Black Gray Black Gray Gray Black\\nBlack Black Black Gray Black Black Black Gray Black Black Gray Black\\n\\nWrite a Python function `transform` that can convert any given input grid to its corresponding output grid based on the pattern observed in the reference examples.\"}\n",
    "]"
   ],
   "id": "1090e8b14a70c65a",
   "outputs": [],
   "execution_count": 29
  },
  {
   "metadata": {
    "ExecuteTime": {
     "end_time": "2025-04-01T15:21:25.811680Z",
     "start_time": "2025-04-01T15:19:48.979157Z"
    }
   },
   "cell_type": "code",
   "source": [
    "from unsloth import FastLanguageModel\n",
    "\n",
    "model, tokenizer = FastLanguageModel.from_pretrained(\n",
    "     \"barc0/Llama-3.1-ARC-Potpourri-Induction-8B\",\n",
    "     device_map=\"auto\",\n",
    "     max_lora_rank=128,\n",
    "     gpu_memory_utilization=0.8,\n",
    "     fast_inference=False,\n",
    "     # quantization_config=quant_config,\n",
    "     # torch_dtype=torch.bfloat16,\n",
    " )\n",
    "model = FastLanguageModel.get_peft_model(\n",
    "   model,\n",
    "   r=128,\n",
    "   lora_alpha=32,\n",
    "   lora_dropout=0,\n",
    "   bias=\"none\",\n",
    "   target_modules=[\"q_proj\", \"v_proj\"],\n",
    "   use_rslora=False,\n",
    "   loftq_config=None,\n",
    ")\n",
    "tokenizer.pad_token = tokenizer.eos_token\n",
    "model.generation_config.pad_token_id = tokenizer.pad_token_id"
   ],
   "id": "6cb6ebc4a6153728",
   "outputs": [
    {
     "name": "stdout",
     "output_type": "stream",
     "text": [
      "🦥 Unsloth: Will patch your computer to enable 2x faster free finetuning.\n",
      "🦥 Unsloth Zoo will now patch everything to make training faster!\n",
      "INFO 04-01 15:20:09 [__init__.py:256] Automatically detected platform cuda.\n",
      "==((====))==  Unsloth 2025.3.18: Fast Llama patching. Transformers: 4.49.0. vLLM: 0.8.1.\n",
      "   \\\\   /|    NVIDIA A40. Num GPUs = 1. Max memory: 44.339 GB. Platform: Linux.\n",
      "O^O/ \\_/ \\    Torch: 2.6.0+cu124. CUDA: 8.6. CUDA Toolkit: 12.4. Triton: 3.2.0\n",
      "\\        /    Bfloat16 = TRUE. FA [Xformers = 0.0.29.post2. FA2 = False]\n",
      " \"-____-\"     Free license: http://github.com/unslothai/unsloth\n",
      "Unsloth: Fast downloading is enabled - ignore downloading bars which are red colored!\n"
     ]
    },
    {
     "data": {
      "text/plain": [
       "model.safetensors.index.json:   0%|          | 0.00/23.9k [00:00<?, ?B/s]"
      ],
      "application/vnd.jupyter.widget-view+json": {
       "version_major": 2,
       "version_minor": 0,
       "model_id": "342a3f910c6240648a443bbd9e48334d"
      }
     },
     "metadata": {},
     "output_type": "display_data"
    },
    {
     "data": {
      "text/plain": [
       "Downloading shards:   0%|          | 0/4 [00:00<?, ?it/s]"
      ],
      "application/vnd.jupyter.widget-view+json": {
       "version_major": 2,
       "version_minor": 0,
       "model_id": "3322bf8c20ff494ca565831c587df7ef"
      }
     },
     "metadata": {},
     "output_type": "display_data"
    },
    {
     "data": {
      "text/plain": [
       "model-00001-of-00004.safetensors:   0%|          | 0.00/4.98G [00:00<?, ?B/s]"
      ],
      "application/vnd.jupyter.widget-view+json": {
       "version_major": 2,
       "version_minor": 0,
       "model_id": "052cebb3cef84d23bd34767d1d60a9df"
      }
     },
     "metadata": {},
     "output_type": "display_data"
    },
    {
     "data": {
      "text/plain": [
       "model-00002-of-00004.safetensors:   0%|          | 0.00/5.00G [00:00<?, ?B/s]"
      ],
      "application/vnd.jupyter.widget-view+json": {
       "version_major": 2,
       "version_minor": 0,
       "model_id": "9f275a61b4b640119146afe051457b0a"
      }
     },
     "metadata": {},
     "output_type": "display_data"
    },
    {
     "data": {
      "text/plain": [
       "model-00003-of-00004.safetensors:   0%|          | 0.00/4.92G [00:00<?, ?B/s]"
      ],
      "application/vnd.jupyter.widget-view+json": {
       "version_major": 2,
       "version_minor": 0,
       "model_id": "3bfbd13413974c8b81eacd6910805eac"
      }
     },
     "metadata": {},
     "output_type": "display_data"
    },
    {
     "data": {
      "text/plain": [
       "model-00004-of-00004.safetensors:   0%|          | 0.00/1.17G [00:00<?, ?B/s]"
      ],
      "application/vnd.jupyter.widget-view+json": {
       "version_major": 2,
       "version_minor": 0,
       "model_id": "bb6da913410640479e4e3b770f6a962e"
      }
     },
     "metadata": {},
     "output_type": "display_data"
    },
    {
     "data": {
      "text/plain": [
       "Loading checkpoint shards:   0%|          | 0/4 [00:00<?, ?it/s]"
      ],
      "application/vnd.jupyter.widget-view+json": {
       "version_major": 2,
       "version_minor": 0,
       "model_id": "a44822a6c39a42f6884bf5efc42fd58b"
      }
     },
     "metadata": {},
     "output_type": "display_data"
    },
    {
     "data": {
      "text/plain": [
       "generation_config.json:   0%|          | 0.00/189 [00:00<?, ?B/s]"
      ],
      "application/vnd.jupyter.widget-view+json": {
       "version_major": 2,
       "version_minor": 0,
       "model_id": "a069772990394931a56f02dd3c13ae90"
      }
     },
     "metadata": {},
     "output_type": "display_data"
    },
    {
     "data": {
      "text/plain": [
       "tokenizer_config.json:   0%|          | 0.00/55.4k [00:00<?, ?B/s]"
      ],
      "application/vnd.jupyter.widget-view+json": {
       "version_major": 2,
       "version_minor": 0,
       "model_id": "47b50b51ba9a49318e65addf373ec625"
      }
     },
     "metadata": {},
     "output_type": "display_data"
    },
    {
     "data": {
      "text/plain": [
       "tokenizer.json:   0%|          | 0.00/9.09M [00:00<?, ?B/s]"
      ],
      "application/vnd.jupyter.widget-view+json": {
       "version_major": 2,
       "version_minor": 0,
       "model_id": "e3a210b0d0534be285144a999b24e8b2"
      }
     },
     "metadata": {},
     "output_type": "display_data"
    },
    {
     "data": {
      "text/plain": [
       "special_tokens_map.json:   0%|          | 0.00/325 [00:00<?, ?B/s]"
      ],
      "application/vnd.jupyter.widget-view+json": {
       "version_major": 2,
       "version_minor": 0,
       "model_id": "a5ad23c9d8254be8955f625bf732e019"
      }
     },
     "metadata": {},
     "output_type": "display_data"
    },
    {
     "name": "stdout",
     "output_type": "stream",
     "text": [
      "barc0/Llama-3.1-ARC-Potpourri-Induction-8B does not have a padding token! Will use pad_token = <|finetune_right_pad_id|>.\n"
     ]
    },
    {
     "name": "stderr",
     "output_type": "stream",
     "text": [
      "Not an error, but Unsloth cannot patch MLP layers with our manual autograd engine since either LoRA adapters\n",
      "are not enabled or a bias term (like in Qwen) is used.\n",
      "Not an error, but Unsloth cannot patch Attention layers with our manual autograd engine since either LoRA adapters\n",
      "are not enabled or a bias term (like in Qwen) is used.\n",
      "Not an error, but Unsloth cannot patch O projection layer with our manual autograd engine since either LoRA adapters\n",
      "are not enabled or a bias term (like in Qwen) is used.\n",
      "Unsloth 2025.3.18 patched 32 layers with 0 QKV layers, 0 O layers and 0 MLP layers.\n"
     ]
    }
   ],
   "execution_count": 28
  },
  {
   "metadata": {
    "ExecuteTime": {
     "end_time": "2025-04-01T15:23:02.342724Z",
     "start_time": "2025-04-01T15:23:02.328002Z"
    }
   },
   "cell_type": "code",
   "source": [
    "from trl import maybe_apply_chat_template\n",
    "\n",
    "prompt_text = maybe_apply_chat_template({\"prompt\": _input}, tokenizer)[\"prompt\"]\n",
    "prompt_input = tokenizer(prompt_text, return_tensors=\"pt\", padding=True, padding_side=\"left\", add_special_tokens=False)"
   ],
   "id": "2910bda20e3c6d38",
   "outputs": [],
   "execution_count": 32
  },
  {
   "metadata": {
    "ExecuteTime": {
     "end_time": "2025-04-01T15:23:05.014984Z",
     "start_time": "2025-04-01T15:23:04.982124Z"
    }
   },
   "cell_type": "code",
   "source": "prompt_input",
   "id": "53cf3f02dcde4e6",
   "outputs": [
    {
     "data": {
      "text/plain": [
       "{'input_ids': tensor([[128000, 128006,   9125, 128007,    271,  38766,   1303,  33025,   2696,\n",
       "             25,   6790,    220,   2366,     18,    198,  15724,   2696,     25,\n",
       "            220,   1627,  10263,    220,   2366,     19,    271,   2675,    527,\n",
       "            264,   1917,  15144,  25649,  30061,    449,  25363,   5497,  18324,\n",
       "           7512,    323,  19248,    304,  13325,  15840,     13,   4718,   3465,\n",
       "            374,    311,  24564,  47623,    323,   3493,  13325,  10105,     13,\n",
       "         128009, 128006,    882, 128007,    271,  22818,   1988,  60624,   5950,\n",
       "          13840,    439,   5905,  10507,     11,  15884,  23846,    279,  12912,\n",
       "            311,   7168,    279,   2612,   5950,    369,    502,   1296,   1988,\n",
       "             13,   9062,   6857,  11263,    279,   1890,  18475,   6037,     13,\n",
       "          10810,     82,    527,    220,     17,     35,  18893,  15609,    439,\n",
       "           9246,     11,    449,   7917,    320,  21712,      8,  19180,    555,\n",
       "          12908,    323,   7123,    555,    502,   8128,    627,   8586,    527,\n",
       "            279,   1988,    323,   2612,  57449,    369,    279,   5905,  10507,\n",
       "            512,  13617,    220,     16,    198,   2566,    512,  29274,   5348,\n",
       "           5348,  24255,   5348,    198,  29274,   5348,   5348,  24255,   5348,\n",
       "            198,  29274,   5348,  24255,  24255,  24255,    198,  29274,  24255,\n",
       "          24255,   5348,   5348,    198,  14755,   5348,  24255,   5348,   5348,\n",
       "            198,  14755,   5348,  24255,  24255,  24255,    198,  14755,   5348,\n",
       "           5348,  24255,   5348,    198,  29274,  24255,  24255,  24255,   5348,\n",
       "            198,  14755,  24255,   5348,   5348,   5348,    198,  14755,  24255,\n",
       "           5348,   5348,   5348,    198,  14755,  24255,  24255,  24255,   5348,\n",
       "            198,  14755,   5348,   5348,  24255,   5348,    198,  14755,  24255,\n",
       "          24255,  24255,  24255,    198,  29274,  24255,   5348,   5348,   5348,\n",
       "            198,  14755,  24255,   5348,   5348,   5348,    271,   5207,    512,\n",
       "          29274,   5348,   5348,  24255,   5348,    198,  29274,   5348,   5348,\n",
       "          24255,   5348,    198,  29274,   5348,  24255,  24255,  24255,    198,\n",
       "          29274,  24255,  24255,   5348,   5348,    198,  14755,   5348,  24255,\n",
       "           5348,   5348,    198,  14755,   5348,  24255,  24255,  24255,    198,\n",
       "          14755,   5348,   5348,  24255,  41489,    198,  29274,  24255,  24255,\n",
       "          24255,  41489,    198,  14755,  24255,  41489,  41489,  41489,    198,\n",
       "          14755,  24255,  41489,  41489,  41489,    198,  14755,  24255,  24255,\n",
       "          24255,  41489,    198,  14755,   5348,   5348,  24255,  41489,    198,\n",
       "          14755,  24255,  24255,  24255,  24255,    198,  29274,  24255,   5348,\n",
       "           5348,   5348,    198,  43069,  24255,   5348,   5348,   5348,   1432,\n",
       "          13617,    220,     17,    198,   2566,    512,  14755,   5348,  24255,\n",
       "           5348,   5348,  24255,   5348,   5348,   5348,    198,  14755,   5348,\n",
       "          24255,  24255,  24255,  24255,   5348,   5348,   5348,    198,  29274,\n",
       "          24255,  24255,   5348,   5348,   5348,   5348,   5348,   5348,    198,\n",
       "          14755,  24255,   5348,   5348,   5348,   5348,   5348,   5348,   5348,\n",
       "            198,  14755,  24255,   5348,   5348,   5348,  24255,  24255,  24255,\n",
       "          24255,    198,  14755,  24255,  24255,  24255,  24255,  24255,   5348,\n",
       "           5348,   5348,    198,  29274,  24255,   5348,   5348,   5348,  24255,\n",
       "          24255,  24255,  24255,    198,  14755,   5348,   5348,   5348,   5348,\n",
       "          24255,   5348,   5348,   5348,    198,  29274,  24255,  24255,  24255,\n",
       "          24255,  24255,   5348,   5348,   5348,    198,  14755,   5348,   5348,\n",
       "           5348,   5348,  24255,   5348,   5348,   5348,    271,   5207,    512,\n",
       "          14755,   5348,  24255,  22725,  22725,  24255,  41489,  41489,  41489,\n",
       "            198,  14755,   5348,  24255,  24255,  24255,  24255,  41489,  41489,\n",
       "          41489,    198,  29274,  24255,  24255,  41489,  41489,  41489,  41489,\n",
       "          41489,  41489,    198,  14755,  24255,  41489,  41489,  41489,  41489,\n",
       "          41489,  41489,  41489,    198,  14755,  24255,  41489,  41489,  41489,\n",
       "          24255,  24255,  24255,  24255,    198,  14755,  24255,  24255,  24255,\n",
       "          24255,  24255,   5348,   5348,   5348,    198,  29274,  24255,   5348,\n",
       "           5348,   5348,  24255,  24255,  24255,  24255,    198,  14755,   5348,\n",
       "           5348,   5348,   5348,  24255,   5348,   5348,   5348,    198,  29274,\n",
       "          24255,  24255,  24255,  24255,  24255,   5348,   5348,   5348,    198,\n",
       "          14755,   5348,   5348,   5348,   5348,  24255,   5348,   5348,   5348,\n",
       "           1432,  13617,    220,     18,    198,   2566,    512,  14755,  24255,\n",
       "           5348,   5348,  24255,   5348,   5348,   5348,   5348,  24255,   5348,\n",
       "           5348,    198,  14755,  24255,   5348,   5348,  24255,  24255,  24255,\n",
       "           5348,   5348,  24255,   5348,   5348,    198,  14755,  24255,  24255,\n",
       "          24255,  24255,   5348,  24255,   5348,   5348,  24255,   5348,   5348,\n",
       "            198,  14755,   5348,  24255,   5348,   5348,   5348,  24255,  24255,\n",
       "          24255,  24255,   5348,   5348,    198,  29274,  24255,  24255,   5348,\n",
       "           5348,   5348,  24255,   5348,   5348,  24255,  24255,  24255,    198,\n",
       "          14755,   5348,   5348,   5348,   5348,   5348,  24255,   5348,   5348,\n",
       "           5348,   5348,   5348,    198,  14755,   5348,   5348,  24255,  24255,\n",
       "          24255,  24255,   5348,   5348,   5348,   5348,   5348,    198,  29274,\n",
       "          24255,  24255,  24255,   5348,   5348,  24255,   5348,   5348,   5348,\n",
       "           5348,   5348,    198,  14755,   5348,   5348,  24255,   5348,   5348,\n",
       "          24255,  24255,  24255,   5348,   5348,   5348,    198,  14755,   5348,\n",
       "           5348,  24255,   5348,   5348,   5348,   5348,  24255,   5348,   5348,\n",
       "           5348,    271,   5207,    512,  14755,  24255,  22725,  22725,  24255,\n",
       "           5348,   5348,   5348,   5348,  24255,   5348,   5348,    198,  14755,\n",
       "          24255,  22725,  22725,  24255,  24255,  24255,   5348,   5348,  24255,\n",
       "           5348,   5348,    198,  14755,  24255,  24255,  24255,  24255,   5348,\n",
       "          24255,   5348,   5348,  24255,   5348,   5348,    198,  14755,   5348,\n",
       "          24255,   5348,   5348,   5348,  24255,  24255,  24255,  24255,   5348,\n",
       "           5348,    198,  29274,  24255,  24255,   5348,   5348,   5348,  24255,\n",
       "          41489,  41489,  24255,  24255,  24255,    198,  14755,   5348,   5348,\n",
       "           5348,   5348,   5348,  24255,  41489,  41489,  41489,  41489,  41489,\n",
       "            198,  14755,   5348,   5348,  24255,  24255,  24255,  24255,  41489,\n",
       "          41489,  41489,  41489,  41489,    198,  29274,  24255,  24255,  24255,\n",
       "           5348,   5348,  24255,  41489,  41489,  41489,  41489,  41489,    198,\n",
       "          14755,   5348,   5348,  24255,   5348,   5348,  24255,  24255,  24255,\n",
       "          41489,  41489,  41489,    198,  14755,   5348,   5348,  24255,   5348,\n",
       "           5348,   5348,   5348,  24255,  41489,  41489,  41489,   1432,   8586,\n",
       "            374,    279,   1988,   5950,    369,    279,   1296,   3187,    512,\n",
       "           2566,    512,  14755,  24255,   5348,   5348,   5348,   5348,   5348,\n",
       "          24255,   5348,   5348,  24255,   5348,    198,  14755,  24255,   5348,\n",
       "           5348,   5348,  24255,  24255,  24255,   5348,  24255,  24255,   5348,\n",
       "            198,  29274,  24255,  24255,   5348,   5348,  24255,   5348,  24255,\n",
       "          24255,  24255,   5348,   5348,    198,  14755,   5348,  24255,  24255,\n",
       "          24255,  24255,   5348,  24255,   5348,  24255,  24255,   5348,    198,\n",
       "          14755,   5348,   5348,  24255,   5348,   5348,   5348,  24255,   5348,\n",
       "           5348,  24255,   5348,    271,   8144,    264,  13325,    734,   1595,\n",
       "           4806,     63,    430,    649,   5625,    904,   2728,   1988,   5950,\n",
       "            311,   1202,  12435,   2612,   5950,   3196,    389,    279,   5497,\n",
       "          13468,    304,    279,   5905,  10507,     13, 128009, 128006,  78191,\n",
       "         128007,    271]]), 'attention_mask': tensor([[1, 1, 1, 1, 1, 1, 1, 1, 1, 1, 1, 1, 1, 1, 1, 1, 1, 1, 1, 1, 1, 1, 1, 1,\n",
       "         1, 1, 1, 1, 1, 1, 1, 1, 1, 1, 1, 1, 1, 1, 1, 1, 1, 1, 1, 1, 1, 1, 1, 1,\n",
       "         1, 1, 1, 1, 1, 1, 1, 1, 1, 1, 1, 1, 1, 1, 1, 1, 1, 1, 1, 1, 1, 1, 1, 1,\n",
       "         1, 1, 1, 1, 1, 1, 1, 1, 1, 1, 1, 1, 1, 1, 1, 1, 1, 1, 1, 1, 1, 1, 1, 1,\n",
       "         1, 1, 1, 1, 1, 1, 1, 1, 1, 1, 1, 1, 1, 1, 1, 1, 1, 1, 1, 1, 1, 1, 1, 1,\n",
       "         1, 1, 1, 1, 1, 1, 1, 1, 1, 1, 1, 1, 1, 1, 1, 1, 1, 1, 1, 1, 1, 1, 1, 1,\n",
       "         1, 1, 1, 1, 1, 1, 1, 1, 1, 1, 1, 1, 1, 1, 1, 1, 1, 1, 1, 1, 1, 1, 1, 1,\n",
       "         1, 1, 1, 1, 1, 1, 1, 1, 1, 1, 1, 1, 1, 1, 1, 1, 1, 1, 1, 1, 1, 1, 1, 1,\n",
       "         1, 1, 1, 1, 1, 1, 1, 1, 1, 1, 1, 1, 1, 1, 1, 1, 1, 1, 1, 1, 1, 1, 1, 1,\n",
       "         1, 1, 1, 1, 1, 1, 1, 1, 1, 1, 1, 1, 1, 1, 1, 1, 1, 1, 1, 1, 1, 1, 1, 1,\n",
       "         1, 1, 1, 1, 1, 1, 1, 1, 1, 1, 1, 1, 1, 1, 1, 1, 1, 1, 1, 1, 1, 1, 1, 1,\n",
       "         1, 1, 1, 1, 1, 1, 1, 1, 1, 1, 1, 1, 1, 1, 1, 1, 1, 1, 1, 1, 1, 1, 1, 1,\n",
       "         1, 1, 1, 1, 1, 1, 1, 1, 1, 1, 1, 1, 1, 1, 1, 1, 1, 1, 1, 1, 1, 1, 1, 1,\n",
       "         1, 1, 1, 1, 1, 1, 1, 1, 1, 1, 1, 1, 1, 1, 1, 1, 1, 1, 1, 1, 1, 1, 1, 1,\n",
       "         1, 1, 1, 1, 1, 1, 1, 1, 1, 1, 1, 1, 1, 1, 1, 1, 1, 1, 1, 1, 1, 1, 1, 1,\n",
       "         1, 1, 1, 1, 1, 1, 1, 1, 1, 1, 1, 1, 1, 1, 1, 1, 1, 1, 1, 1, 1, 1, 1, 1,\n",
       "         1, 1, 1, 1, 1, 1, 1, 1, 1, 1, 1, 1, 1, 1, 1, 1, 1, 1, 1, 1, 1, 1, 1, 1,\n",
       "         1, 1, 1, 1, 1, 1, 1, 1, 1, 1, 1, 1, 1, 1, 1, 1, 1, 1, 1, 1, 1, 1, 1, 1,\n",
       "         1, 1, 1, 1, 1, 1, 1, 1, 1, 1, 1, 1, 1, 1, 1, 1, 1, 1, 1, 1, 1, 1, 1, 1,\n",
       "         1, 1, 1, 1, 1, 1, 1, 1, 1, 1, 1, 1, 1, 1, 1, 1, 1, 1, 1, 1, 1, 1, 1, 1,\n",
       "         1, 1, 1, 1, 1, 1, 1, 1, 1, 1, 1, 1, 1, 1, 1, 1, 1, 1, 1, 1, 1, 1, 1, 1,\n",
       "         1, 1, 1, 1, 1, 1, 1, 1, 1, 1, 1, 1, 1, 1, 1, 1, 1, 1, 1, 1, 1, 1, 1, 1,\n",
       "         1, 1, 1, 1, 1, 1, 1, 1, 1, 1, 1, 1, 1, 1, 1, 1, 1, 1, 1, 1, 1, 1, 1, 1,\n",
       "         1, 1, 1, 1, 1, 1, 1, 1, 1, 1, 1, 1, 1, 1, 1, 1, 1, 1, 1, 1, 1, 1, 1, 1,\n",
       "         1, 1, 1, 1, 1, 1, 1, 1, 1, 1, 1, 1, 1, 1, 1, 1, 1, 1, 1, 1, 1, 1, 1, 1,\n",
       "         1, 1, 1, 1, 1, 1, 1, 1, 1, 1, 1, 1, 1, 1, 1, 1, 1, 1, 1, 1, 1, 1, 1, 1,\n",
       "         1, 1, 1, 1, 1, 1, 1, 1, 1, 1, 1, 1, 1, 1, 1, 1, 1, 1, 1, 1, 1, 1, 1, 1,\n",
       "         1, 1, 1, 1, 1, 1, 1, 1, 1, 1, 1, 1, 1, 1, 1, 1, 1, 1, 1, 1, 1, 1, 1, 1,\n",
       "         1, 1, 1, 1, 1, 1, 1, 1, 1, 1, 1, 1, 1, 1, 1, 1, 1, 1, 1, 1, 1, 1, 1, 1,\n",
       "         1, 1, 1, 1, 1, 1, 1, 1, 1, 1, 1, 1, 1, 1, 1, 1, 1, 1, 1, 1, 1, 1, 1, 1,\n",
       "         1, 1, 1, 1, 1, 1, 1, 1, 1, 1, 1, 1, 1, 1, 1, 1, 1, 1, 1, 1, 1, 1, 1, 1,\n",
       "         1, 1, 1, 1, 1, 1, 1, 1, 1, 1, 1, 1, 1, 1, 1, 1, 1, 1, 1, 1, 1, 1, 1, 1,\n",
       "         1, 1, 1, 1, 1, 1, 1, 1, 1, 1, 1, 1, 1, 1, 1, 1, 1, 1, 1, 1, 1, 1, 1, 1,\n",
       "         1, 1, 1, 1, 1, 1, 1, 1, 1, 1, 1, 1, 1, 1, 1, 1, 1, 1, 1, 1, 1, 1, 1, 1,\n",
       "         1, 1, 1, 1, 1, 1, 1, 1, 1, 1, 1, 1, 1, 1, 1, 1, 1, 1, 1, 1, 1, 1, 1, 1,\n",
       "         1, 1, 1, 1, 1, 1, 1, 1, 1, 1, 1, 1, 1, 1, 1, 1, 1, 1, 1, 1, 1, 1, 1, 1,\n",
       "         1, 1, 1, 1, 1, 1, 1, 1, 1, 1, 1, 1, 1, 1, 1, 1, 1, 1, 1, 1, 1, 1, 1, 1,\n",
       "         1, 1, 1, 1, 1, 1, 1, 1, 1, 1, 1, 1, 1, 1]])}"
      ]
     },
     "execution_count": 33,
     "metadata": {},
     "output_type": "execute_result"
    }
   ],
   "execution_count": 33
  },
  {
   "metadata": {
    "ExecuteTime": {
     "end_time": "2025-04-01T15:25:40.752932Z",
     "start_time": "2025-04-01T15:25:40.748347Z"
    }
   },
   "cell_type": "code",
   "source": "",
   "id": "bf45e68932434ca6",
   "outputs": [],
   "execution_count": null
  },
  {
   "metadata": {
    "ExecuteTime": {
     "end_time": "2025-04-01T15:32:07.059411Z",
     "start_time": "2025-04-01T15:31:30.715989Z"
    }
   },
   "cell_type": "code",
   "source": [
    "prompt_ids, prompt_mask = prompt_input[\"input_ids\"], prompt_input[\"attention_mask\"]\n",
    "completion_ids = model.generate(input_ids=prompt_ids.to(model.device), attention_mask=prompt_mask.to(model.device), max_new_tokens=2048,\n",
    "                                num_return_sequences=3)\n",
    "prompt_length = prompt_ids.size(1)\n",
    "completion = tokenizer.batch_decode(completion_ids[:, prompt_length:], skip_special_tokens=True)\n",
    "print(completion)"
   ],
   "id": "910c1cea13f9cd2b",
   "outputs": [
    {
     "name": "stdout",
     "output_type": "stream",
     "text": [
      "[\"Let's solve this puzzle using Python code with the common library functions. We'll first reason about the problem and then write the code to solve it. The `transform` function will take the input grid and return the output grid. Here is the Python code with the comments describing how to solve the problem:\\n```python\\nfrom common import *\\n\\nimport numpy as np\\nfrom typing import *\\n\\n# concepts:\\n# pattern detection, color transformation\\n\\n# description:\\n# In the input, you will see a grid with various colored patterns. \\n# Each pattern consists of a 3x3 block of pixels, and the patterns can be of different colors. \\n# To make the output grid, you should transform the colors of the patterns as follows:\\n# 1. If the center pixel of the 3x3 block is black, change the entire block to orange.\\n# 2. If the center pixel is gray, change the entire block to purple.\\n# 3. If the center pixel is any other color, leave the block unchanged.\\n\\ndef transform(input_grid):\\n    # Get the dimensions of the input grid\\n    n, m = input_grid.shape\\n\\n    # Prepare the output grid\\n    output_grid = np.copy(input_grid)\\n\\n    # Iterate over the grid to find 3x3 blocks\\n    for x in range(n - 2):\\n        for y in range(m - 2):\\n            # Extract the 3x3 block\\n            block = input_grid[x:x + 3, y:y + 3]\\n\\n            # Check the center pixel\\n            center_pixel = block[1, 1]\\n\\n            # Apply transformations based on the center pixel\\n            if center_pixel == Color.BLACK:\\n                output_grid[x:x + 3, y:y + 3] = Color.ORANGE\\n            elif center_pixel == Color.GRAY:\\n                output_grid[x:x + 3, y:y + 3] = Color.PURPLE\\n\\n    return output_grid\\n```\", \"Let's solve this puzzle using Python code with the common library functions. We'll first reason about the problem and then write the code to solve it. The `transform` function will take the input grid and return the output grid. Here is the Python code with the comments describing how to solve the problem:\\n```python\\nfrom common import *\\n\\nimport numpy as np\\nfrom typing import *\\n\\n# concepts:\\n# pattern recognition, color transformation\\n\\n# description:\\n# In the input, you will see a grid filled with various colored pixels. Each color represents a different shape (like triangles or circles).\\n# To make the output, you should transform the shapes based on their color:\\n# 1. For every triangle shape (represented by a 3x3 grid with specific color patterns), change its color to orange.\\n# 2. For every circle shape (represented by a 3x3 grid with a different color pattern), change its color to purple.\\n\\ndef transform(input_grid: np.ndarray) -> np.ndarray:\\n    output_grid = np.copy(input_grid)\\n\\n    # Define triangle and circle patterns\\n    triangle_pattern = np.array([[Color.BLACK, Color.GRAY, Color.BLACK],\\n                                   [Color.BLACK, Color.GRAY, Color.BLACK],\\n                                   [Color.GRAY, Color.GRAY, Color.GRAY]])\\n    \\n    circle_pattern = np.array([[Color.BLACK, Color.BLACK, Color.BLACK],\\n                                 [Color.BLACK, Color.GRAY, Color.BLACK],\\n                                 [Color.BLACK, Color.BLACK, Color.BLACK]])\\n\\n    # Detect shapes in the input grid\\n    shapes = detect_objects(grid=input_grid, colors=[Color.GRAY], monochromatic=False, connectivity=8)\\n\\n    for shape in shapes:\\n        shape_cropped = crop(shape, background=Color.BLACK)\\n\\n        # Check if the shape matches the triangle pattern\\n        if np.array_equal(shape_cropped, triangle_pattern):\\n            # Change color to orange\\n            output_grid[object_position(shape)[0]:object_position(shape)[0]+shape_cropped.shape[0], \\n                        object_position(shape)[1]:object_position(shape)[1]+shape_cropped.shape[1]] = Color.ORANGE\\n        elif np.array_equal(shape_cropped, circle_pattern):\\n            # Change color to purple\\n            output_grid[object_position(shape)[0]:object_position(shape)[0]+shape_cropped.shape[0], \\n                        object_position(shape)[1]:object_position(shape)[1]+shape_cropped.shape[1]] = Color.PURPLE\\n\\n    return output_grid\\n```\", \"Let's solve this puzzle using Python code with the common library functions. We'll first reason about the problem and then write the code to solve it. The `transform` function will take the input grid and return the output grid. Here is the Python code with the comments describing how to solve the problem:\\n```python\\nfrom common import *\\n\\nimport numpy as np\\nfrom typing import *\\n\\n# concepts:\\n# filling, pattern recognition\\n\\n# description:\\n# The input consists of a black grid with gray circles and lines. \\n# To create the output, fill in the circles with purple and the lines with orange.\\n\\ndef transform(input_grid):\\n    # Create an output grid initialized to the background color (black)\\n    output_grid = np.full(input_grid.shape, Color.BLACK)\\n\\n    # Find connected components in the input grid\\n    objects = find_connected_components(input_grid, background=Color.BLACK, connectivity=8, monochromatic=False)\\n\\n    for obj in objects:\\n        # Check if the object is a circle (all pixels should be gray)\\n        if np.all(obj == Color.GRAY):\\n            # Fill the circle with purple\\n            obj[obj == Color.GRAY] = Color.PURPLE\\n            blit_object(output_grid, obj, background=Color.BLACK)\\n        else:\\n            # Check if the object is a line (it should have a gray border and black inside)\\n            if np.any(obj == Color.GRAY) and np.any(obj == Color.BLACK):\\n                # Fill the line with orange\\n                obj[obj == Color.GRAY] = Color.ORANGE\\n                blit_object(output_grid, obj, background=Color.BLACK)\\n\\n    return output_grid\\n```\"]\n"
     ]
    }
   ],
   "execution_count": 39
  },
  {
   "metadata": {
    "ExecuteTime": {
     "end_time": "2025-04-01T15:32:09.909038Z",
     "start_time": "2025-04-01T15:32:09.902421Z"
    }
   },
   "cell_type": "code",
   "source": "print(completion[0])",
   "id": "ab4cd19d24fada04",
   "outputs": [
    {
     "name": "stdout",
     "output_type": "stream",
     "text": [
      "Let's solve this puzzle using Python code with the common library functions. We'll first reason about the problem and then write the code to solve it. The `transform` function will take the input grid and return the output grid. Here is the Python code with the comments describing how to solve the problem:\n",
      "```python\n",
      "from common import *\n",
      "\n",
      "import numpy as np\n",
      "from typing import *\n",
      "\n",
      "# concepts:\n",
      "# pattern detection, color transformation\n",
      "\n",
      "# description:\n",
      "# In the input, you will see a grid with various colored patterns. \n",
      "# Each pattern consists of a 3x3 block of pixels, and the patterns can be of different colors. \n",
      "# To make the output grid, you should transform the colors of the patterns as follows:\n",
      "# 1. If the center pixel of the 3x3 block is black, change the entire block to orange.\n",
      "# 2. If the center pixel is gray, change the entire block to purple.\n",
      "# 3. If the center pixel is any other color, leave the block unchanged.\n",
      "\n",
      "def transform(input_grid):\n",
      "    # Get the dimensions of the input grid\n",
      "    n, m = input_grid.shape\n",
      "\n",
      "    # Prepare the output grid\n",
      "    output_grid = np.copy(input_grid)\n",
      "\n",
      "    # Iterate over the grid to find 3x3 blocks\n",
      "    for x in range(n - 2):\n",
      "        for y in range(m - 2):\n",
      "            # Extract the 3x3 block\n",
      "            block = input_grid[x:x + 3, y:y + 3]\n",
      "\n",
      "            # Check the center pixel\n",
      "            center_pixel = block[1, 1]\n",
      "\n",
      "            # Apply transformations based on the center pixel\n",
      "            if center_pixel == Color.BLACK:\n",
      "                output_grid[x:x + 3, y:y + 3] = Color.ORANGE\n",
      "            elif center_pixel == Color.GRAY:\n",
      "                output_grid[x:x + 3, y:y + 3] = Color.PURPLE\n",
      "\n",
      "    return output_grid\n",
      "```\n"
     ]
    }
   ],
   "execution_count": 40
  },
  {
   "metadata": {},
   "cell_type": "code",
   "outputs": [],
   "execution_count": null,
   "source": "",
   "id": "375624c040a89222"
  }
 ],
 "metadata": {
  "kernelspec": {
   "display_name": "Python 3",
   "language": "python",
   "name": "python3"
  },
  "language_info": {
   "codemirror_mode": {
    "name": "ipython",
    "version": 2
   },
   "file_extension": ".py",
   "mimetype": "text/x-python",
   "name": "python",
   "nbconvert_exporter": "python",
   "pygments_lexer": "ipython2",
   "version": "2.7.6"
  }
 },
 "nbformat": 4,
 "nbformat_minor": 5
}

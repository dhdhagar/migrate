{
 "cells": [
  {
   "cell_type": "code",
   "id": "initial_id",
   "metadata": {
    "collapsed": true,
    "ExecuteTime": {
     "end_time": "2025-03-31T03:58:08.996582Z",
     "start_time": "2025-03-31T03:58:07.426900Z"
    }
   },
   "source": [
    "import wandb\n",
    "import pandas as pd\n",
    "import numpy as np\n",
    "import matplotlib.pyplot as plt\n",
    "import seaborn as sns\n",
    "import os\n",
    "import json\n",
    "import itertools"
   ],
   "outputs": [],
   "execution_count": 4
  },
  {
   "metadata": {
    "ExecuteTime": {
     "end_time": "2025-03-31T07:09:43.136477Z",
     "start_time": "2025-03-31T07:09:43.023975Z"
    }
   },
   "cell_type": "code",
   "source": [
    "# Load results from wandb\n",
    "api = wandb.Api()\n",
    "user_name = \"dhdhagar\"\n",
    "project_name = \"ttt-arc\"\n",
    "runs = api.runs(f\"{user_name}/{project_name}\")\n",
    "expected_n_results = 54\n",
    "all_targets = [\n",
    "   '00576224',\n",
    "   '0c786b71',\n",
    "   '0c9aba6e',\n",
    "   '17cae0c1',\n",
    "   '195ba7dc',\n",
    "   '2072aba6',\n",
    "   '27a77e38',\n",
    "   '281123b4',\n",
    "   '31d5ba1a',\n",
    "   '32e9702f',\n",
    "   '34b99a2b',\n",
    "   '3b4c2228',\n",
    "   '3d31c5b3',\n",
    "   '48131b3c',\n",
    "   '4852f2fa',\n",
    "   '4cd1b7b2',\n",
    "   '506d28a5',\n",
    "   '5783df64',\n",
    "   '59341089',\n",
    "   '5d2a5c43',\n",
    "   '60c09cac',\n",
    "   '626c0bcc',\n",
    "   '62b74c02',\n",
    "   '66e6c45b',\n",
    "   '66f2d22f',\n",
    "   '68b67ca3',\n",
    "   '6a11f6da',\n",
    "   '6ad5bdfd',\n",
    "   '6ea4a07e',\n",
    "   '7953d61e',\n",
    "   '833dafe3',\n",
    "   '8597cfd7',\n",
    "   '8ba14f53',\n",
    "   '9110e3c5',\n",
    "   'a8610ef7',\n",
    "   'aa18de87',\n",
    "   'af24b4cc',\n",
    "   'b0722778',\n",
    "   'b1fc8b8e',\n",
    "   'bbb1b8b6',\n",
    "   'be03b35f',\n",
    "   'c074846d',\n",
    "   'c8b7cc0f',\n",
    "   'ca8de6ea',\n",
    "   'd017b73f',\n",
    "   'd19f7514',\n",
    "   'e133d23d',\n",
    "   'e345f17b',\n",
    "   'e633a9e5',\n",
    "   'e6de6e8f',\n",
    "   'e99362f0',\n",
    "   'ed74f2f2',\n",
    "   'ed98d772',\n",
    "   'fc754716'\n",
    "]"
   ],
   "id": "11a055995bce461c",
   "outputs": [],
   "execution_count": 140
  },
  {
   "metadata": {
    "ExecuteTime": {
     "end_time": "2025-03-31T12:07:06.565853Z",
     "start_time": "2025-03-31T12:07:06.557804Z"
    }
   },
   "cell_type": "code",
   "source": [
    "# Get runs by tags\n",
    "tags = None\n",
    "all_tags = [\n",
    "   [\"sft\"], [\"sft\", \"train_temp=sched\"], [\"pro\", \"oracle\"], [\"pro\", \"online\"], [\"sft\", \"pro\", \"oracle\"],\n",
    "   [\"grpo\", \"oracle\"], [\"grpo\", \"online\"], [\"grpo\", \"beta0\", \"oracle\"]\n",
    "]"
   ],
   "id": "9072ffbfcbf18b02",
   "outputs": [],
   "execution_count": 144
  },
  {
   "metadata": {
    "ExecuteTime": {
     "end_time": "2025-03-31T12:07:07.942917Z",
     "start_time": "2025-03-31T12:07:07.857255Z"
    }
   },
   "cell_type": "code",
   "source": [
    "# Load results\n",
    "results = []\n",
    "for run in runs:\n",
    "    # if all(tag in run.tags for tag in tags):\n",
    "    if (tags is None and any(set(run.tags) == set(t) for t in all_tags)) or (tags is not None and set(run.tags) == set(tags)):\n",
    "        results.append({\n",
    "            \"target\": run.config[\"target\"],\n",
    "            \"tags\": \",\".join(sorted(set(run.tags))),\n",
    "            **run.summary\n",
    "        })\n",
    "\n",
    "# Convert results into dataframe\n",
    "all_res_df = pd.DataFrame(results)\n",
    "\n",
    "if tags is not None:\n",
    "   assert len(all_res_df) == expected_n_results, f\"Expected {expected_n_results} results, got {len(all_res_df)} results. Missing targets: {set(all_targets) - set(all_res_df.target.tolist())}\"\n",
    "\n",
    "# Convert any boolean datatypes to int\n",
    "for col in all_res_df.columns:\n",
    "    if all_res_df[col].dtype == bool:\n",
    "        all_res_df[col] = all_res_df[col].astype(int)\n",
    "\n",
    "# Columns to show\n",
    "cols_to_show = [\"tags\", \"target\", \"_runtime\", \"test/solved_majority\", \"test/solved_majority_pass2\", \"test/solved_oracle\", \"test/best_score\", \"validation/majority_reward\", \"validation/majority_count\", \"train/reward_minus_replacement_mean\", \"train/reward_minus_replacement_max\"]\n",
    "numerical_cols = [\"_runtime\", \"test/solved_majority\", \"test/solved_majority_pass2\", \"test/solved_oracle\", \"test/best_score\", \"validation/majority_reward\", \"validation/majority_count\", \"train/reward_minus_replacement_mean\", \"train/reward_minus_replacement_max\"]\n",
    "\n",
    "res_df = all_res_df[cols_to_show]"
   ],
   "id": "a48b5153c9747c29",
   "outputs": [],
   "execution_count": 145
  },
  {
   "metadata": {
    "ExecuteTime": {
     "end_time": "2025-03-31T12:09:51.120709Z",
     "start_time": "2025-03-31T12:09:51.075139Z"
    }
   },
   "cell_type": "code",
   "source": [
    "# # Show results for one configuration\n",
    "# res_df.describe()\n",
    "\n",
    "# Show all results\n",
    "_res_df = res_df[['tags'] + numerical_cols].groupby(\"tags\").mean()\n",
    "_res_df = _res_df.sort_values([\"test/solved_majority_pass2\", \"test/solved_majority\", \"test/solved_oracle\", \"test/best_score\"], ascending=True)\n",
    "# Add a count column as the 1st column\n",
    "_res_df.insert(0, \"count\", res_df[['tags', 'target']].groupby(\"tags\").count())\n",
    "_res_df"
   ],
   "id": "ef012f7f27e63da1",
   "outputs": [
    {
     "data": {
      "text/plain": [
       "                      count    _runtime  test/solved_majority  \\\n",
       "tags                                                            \n",
       "online,pro               54  282.565988              0.296296   \n",
       "grpo,online              54  430.278034              0.314815   \n",
       "oracle,pro               54  242.486204              0.351852   \n",
       "sft                      54  131.012640              0.351852   \n",
       "oracle,pro,sft           54  219.020248              0.370370   \n",
       "sft,train_temp=sched     54  172.410281              0.388889   \n",
       "grpo,oracle              54  354.452279              0.388889   \n",
       "beta0,grpo,oracle         9  218.096819              0.333333   \n",
       "\n",
       "                      test/solved_majority_pass2  test/solved_oracle  \\\n",
       "tags                                                                   \n",
       "online,pro                              0.425926            0.481481   \n",
       "grpo,online                             0.425926            0.462963   \n",
       "oracle,pro                              0.481481            0.537037   \n",
       "sft                                     0.518519            0.555556   \n",
       "oracle,pro,sft                          0.518519            0.574074   \n",
       "sft,train_temp=sched                    0.518519            0.574074   \n",
       "grpo,oracle                             0.537037            0.592593   \n",
       "beta0,grpo,oracle                       0.555556            0.555556   \n",
       "\n",
       "                      test/best_score  validation/majority_reward  \\\n",
       "tags                                                                \n",
       "online,pro                   0.858366                    0.767570   \n",
       "grpo,online                  0.870253                    0.789387   \n",
       "oracle,pro                   0.899679                    0.823586   \n",
       "sft                          0.878520                    0.788739   \n",
       "oracle,pro,sft               0.911957                    0.803357   \n",
       "sft,train_temp=sched         0.898320                    0.769897   \n",
       "grpo,oracle                  0.889481                    0.784964   \n",
       "beta0,grpo,oracle            0.868227                    0.771605   \n",
       "\n",
       "                      validation/majority_count  \\\n",
       "tags                                              \n",
       "online,pro                            17.314815   \n",
       "grpo,online                           16.759259   \n",
       "oracle,pro                            18.740741   \n",
       "sft                                   18.092593   \n",
       "oracle,pro,sft                        17.777778   \n",
       "sft,train_temp=sched                  18.333333   \n",
       "grpo,oracle                           18.351852   \n",
       "beta0,grpo,oracle                     14.777778   \n",
       "\n",
       "                      train/reward_minus_replacement_mean  \\\n",
       "tags                                                        \n",
       "online,pro                                       0.653914   \n",
       "grpo,online                                      0.653499   \n",
       "oracle,pro                                       0.728166   \n",
       "sft                                              0.731850   \n",
       "oracle,pro,sft                                   0.734850   \n",
       "sft,train_temp=sched                             0.725364   \n",
       "grpo,oracle                                      0.786376   \n",
       "beta0,grpo,oracle                                0.795422   \n",
       "\n",
       "                      train/reward_minus_replacement_max  \n",
       "tags                                                      \n",
       "online,pro                                      0.755778  \n",
       "grpo,online                                     0.746892  \n",
       "oracle,pro                                      0.831245  \n",
       "sft                                             0.731850  \n",
       "oracle,pro,sft                                  0.848389  \n",
       "sft,train_temp=sched                            0.725364  \n",
       "grpo,oracle                                     0.899993  \n",
       "beta0,grpo,oracle                               0.867284  "
      ],
      "text/html": [
       "<div>\n",
       "<style scoped>\n",
       "    .dataframe tbody tr th:only-of-type {\n",
       "        vertical-align: middle;\n",
       "    }\n",
       "\n",
       "    .dataframe tbody tr th {\n",
       "        vertical-align: top;\n",
       "    }\n",
       "\n",
       "    .dataframe thead th {\n",
       "        text-align: right;\n",
       "    }\n",
       "</style>\n",
       "<table border=\"1\" class=\"dataframe\">\n",
       "  <thead>\n",
       "    <tr style=\"text-align: right;\">\n",
       "      <th></th>\n",
       "      <th>count</th>\n",
       "      <th>_runtime</th>\n",
       "      <th>test/solved_majority</th>\n",
       "      <th>test/solved_majority_pass2</th>\n",
       "      <th>test/solved_oracle</th>\n",
       "      <th>test/best_score</th>\n",
       "      <th>validation/majority_reward</th>\n",
       "      <th>validation/majority_count</th>\n",
       "      <th>train/reward_minus_replacement_mean</th>\n",
       "      <th>train/reward_minus_replacement_max</th>\n",
       "    </tr>\n",
       "    <tr>\n",
       "      <th>tags</th>\n",
       "      <th></th>\n",
       "      <th></th>\n",
       "      <th></th>\n",
       "      <th></th>\n",
       "      <th></th>\n",
       "      <th></th>\n",
       "      <th></th>\n",
       "      <th></th>\n",
       "      <th></th>\n",
       "      <th></th>\n",
       "    </tr>\n",
       "  </thead>\n",
       "  <tbody>\n",
       "    <tr>\n",
       "      <th>online,pro</th>\n",
       "      <td>54</td>\n",
       "      <td>282.565988</td>\n",
       "      <td>0.296296</td>\n",
       "      <td>0.425926</td>\n",
       "      <td>0.481481</td>\n",
       "      <td>0.858366</td>\n",
       "      <td>0.767570</td>\n",
       "      <td>17.314815</td>\n",
       "      <td>0.653914</td>\n",
       "      <td>0.755778</td>\n",
       "    </tr>\n",
       "    <tr>\n",
       "      <th>grpo,online</th>\n",
       "      <td>54</td>\n",
       "      <td>430.278034</td>\n",
       "      <td>0.314815</td>\n",
       "      <td>0.425926</td>\n",
       "      <td>0.462963</td>\n",
       "      <td>0.870253</td>\n",
       "      <td>0.789387</td>\n",
       "      <td>16.759259</td>\n",
       "      <td>0.653499</td>\n",
       "      <td>0.746892</td>\n",
       "    </tr>\n",
       "    <tr>\n",
       "      <th>oracle,pro</th>\n",
       "      <td>54</td>\n",
       "      <td>242.486204</td>\n",
       "      <td>0.351852</td>\n",
       "      <td>0.481481</td>\n",
       "      <td>0.537037</td>\n",
       "      <td>0.899679</td>\n",
       "      <td>0.823586</td>\n",
       "      <td>18.740741</td>\n",
       "      <td>0.728166</td>\n",
       "      <td>0.831245</td>\n",
       "    </tr>\n",
       "    <tr>\n",
       "      <th>sft</th>\n",
       "      <td>54</td>\n",
       "      <td>131.012640</td>\n",
       "      <td>0.351852</td>\n",
       "      <td>0.518519</td>\n",
       "      <td>0.555556</td>\n",
       "      <td>0.878520</td>\n",
       "      <td>0.788739</td>\n",
       "      <td>18.092593</td>\n",
       "      <td>0.731850</td>\n",
       "      <td>0.731850</td>\n",
       "    </tr>\n",
       "    <tr>\n",
       "      <th>oracle,pro,sft</th>\n",
       "      <td>54</td>\n",
       "      <td>219.020248</td>\n",
       "      <td>0.370370</td>\n",
       "      <td>0.518519</td>\n",
       "      <td>0.574074</td>\n",
       "      <td>0.911957</td>\n",
       "      <td>0.803357</td>\n",
       "      <td>17.777778</td>\n",
       "      <td>0.734850</td>\n",
       "      <td>0.848389</td>\n",
       "    </tr>\n",
       "    <tr>\n",
       "      <th>sft,train_temp=sched</th>\n",
       "      <td>54</td>\n",
       "      <td>172.410281</td>\n",
       "      <td>0.388889</td>\n",
       "      <td>0.518519</td>\n",
       "      <td>0.574074</td>\n",
       "      <td>0.898320</td>\n",
       "      <td>0.769897</td>\n",
       "      <td>18.333333</td>\n",
       "      <td>0.725364</td>\n",
       "      <td>0.725364</td>\n",
       "    </tr>\n",
       "    <tr>\n",
       "      <th>grpo,oracle</th>\n",
       "      <td>54</td>\n",
       "      <td>354.452279</td>\n",
       "      <td>0.388889</td>\n",
       "      <td>0.537037</td>\n",
       "      <td>0.592593</td>\n",
       "      <td>0.889481</td>\n",
       "      <td>0.784964</td>\n",
       "      <td>18.351852</td>\n",
       "      <td>0.786376</td>\n",
       "      <td>0.899993</td>\n",
       "    </tr>\n",
       "    <tr>\n",
       "      <th>beta0,grpo,oracle</th>\n",
       "      <td>9</td>\n",
       "      <td>218.096819</td>\n",
       "      <td>0.333333</td>\n",
       "      <td>0.555556</td>\n",
       "      <td>0.555556</td>\n",
       "      <td>0.868227</td>\n",
       "      <td>0.771605</td>\n",
       "      <td>14.777778</td>\n",
       "      <td>0.795422</td>\n",
       "      <td>0.867284</td>\n",
       "    </tr>\n",
       "  </tbody>\n",
       "</table>\n",
       "</div>"
      ]
     },
     "execution_count": 151,
     "metadata": {},
     "output_type": "execute_result"
    }
   ],
   "execution_count": 151
  },
  {
   "metadata": {
    "ExecuteTime": {
     "end_time": "2025-03-31T12:07:10.960183Z",
     "start_time": "2025-03-31T12:07:10.938840Z"
    }
   },
   "cell_type": "code",
   "source": [
    "# Export this dataframe as a markdown table\n",
    "_md_table = res_df[['tags'] + numerical_cols].groupby(\"tags\").mean()\n",
    "_md_table = _md_table.sort_values(\"test/solved_majority_pass2\", ascending=True)\n",
    "print(_md_table.to_markdown(index=True))"
   ],
   "id": "155a7c8d45fbe4ce",
   "outputs": [
    {
     "name": "stdout",
     "output_type": "stream",
     "text": [
      "| tags                 |   _runtime |   test/solved_majority |   test/solved_majority_pass2 |   test/solved_oracle |   test/best_score |   validation/majority_reward |   validation/majority_count |   train/reward_minus_replacement_mean |   train/reward_minus_replacement_max |\n",
      "|:---------------------|-----------:|-----------------------:|-----------------------------:|---------------------:|------------------:|-----------------------------:|----------------------------:|--------------------------------------:|-------------------------------------:|\n",
      "| grpo,online          |    430.278 |               0.314815 |                     0.425926 |             0.462963 |          0.870253 |                     0.789387 |                     16.7593 |                              0.653499 |                             0.746892 |\n",
      "| online,pro           |    282.566 |               0.296296 |                     0.425926 |             0.481481 |          0.858366 |                     0.76757  |                     17.3148 |                              0.653914 |                             0.755778 |\n",
      "| oracle,pro           |    242.486 |               0.351852 |                     0.481481 |             0.537037 |          0.899679 |                     0.823586 |                     18.7407 |                              0.728166 |                             0.831245 |\n",
      "| oracle,pro,sft       |    219.02  |               0.37037  |                     0.518519 |             0.574074 |          0.911957 |                     0.803357 |                     17.7778 |                              0.73485  |                             0.848389 |\n",
      "| sft                  |    131.013 |               0.351852 |                     0.518519 |             0.555556 |          0.87852  |                     0.788739 |                     18.0926 |                              0.73185  |                             0.73185  |\n",
      "| sft,train_temp=sched |    172.41  |               0.388889 |                     0.518519 |             0.574074 |          0.89832  |                     0.769897 |                     18.3333 |                              0.725364 |                             0.725364 |\n",
      "| grpo,oracle          |    354.452 |               0.388889 |                     0.537037 |             0.592593 |          0.889481 |                     0.784964 |                     18.3519 |                              0.786376 |                             0.899993 |\n",
      "| beta0,grpo,oracle    |    218.097 |               0.333333 |                     0.555556 |             0.555556 |          0.868227 |                     0.771605 |                     14.7778 |                              0.795422 |                             0.867284 |\n"
     ]
    }
   ],
   "execution_count": 147
  },
  {
   "metadata": {
    "ExecuteTime": {
     "end_time": "2025-03-31T12:07:12.343756Z",
     "start_time": "2025-03-31T12:07:12.030296Z"
    }
   },
   "cell_type": "code",
   "source": [
    "# Plot results\n",
    "fig, ax = plt.subplots(figsize=(10, 8))\n",
    "sns.barplot(data=res_df, x=\"test/solved_majority_pass2\", y=\"tags\", ax=ax)\n",
    "plt.show()\n"
   ],
   "id": "a980a2dc87376ace",
   "outputs": [
    {
     "data": {
      "text/plain": [
       "<Figure size 1000x800 with 1 Axes>"
      ],
      "image/png": "[encoded data removed]"
     },
     "metadata": {},
     "output_type": "display_data"
    }
   ],
   "execution_count": 148
  },
  {
   "metadata": {
    "ExecuteTime": {
     "end_time": "2025-03-31T04:20:42.022918Z",
     "start_time": "2025-03-31T04:20:42.019130Z"
    }
   },
   "cell_type": "code",
   "source": "",
   "id": "9c49fdb4d2f8d2cb",
   "outputs": [],
   "execution_count": null
  },
  {
   "metadata": {
    "ExecuteTime": {
     "end_time": "2025-03-31T04:20:42.263390Z",
     "start_time": "2025-03-31T04:20:42.259634Z"
    }
   },
   "cell_type": "code",
   "source": "",
   "id": "e5832ec3f3059f52",
   "outputs": [],
   "execution_count": null
  },
  {
   "metadata": {
    "ExecuteTime": {
     "end_time": "2025-03-31T04:14:15.849458Z",
     "start_time": "2025-03-31T04:14:15.845515Z"
    }
   },
   "cell_type": "code",
   "source": "",
   "id": "3d13ce52e32b430f",
   "outputs": [],
   "execution_count": null
  },
  {
   "metadata": {},
   "cell_type": "code",
   "outputs": [],
   "execution_count": null,
   "source": "",
   "id": "5a5fa53a30fbf0ae"
  }
 ],
 "metadata": {
  "kernelspec": {
   "display_name": "Python 3",
   "language": "python",
   "name": "python3"
  },
  "language_info": {
   "codemirror_mode": {
    "name": "ipython",
    "version": 2
   },
   "file_extension": ".py",
   "mimetype": "text/x-python",
   "name": "python",
   "nbconvert_exporter": "python",
   "pygments_lexer": "ipython2",
   "version": "2.7.6"
  }
 },
 "nbformat": 4,
 "nbformat_minor": 5
}
